{
 "cells": [
  {
   "cell_type": "markdown",
   "metadata": {},
   "source": [
    "<h1>faceBIT</h1>"
   ]
  },
  {
   "cell_type": "markdown",
   "metadata": {},
   "source": [
    "<h3>bibliotecas</h3>"
   ]
  },
  {
   "cell_type": "code",
   "execution_count": 1,
   "metadata": {},
   "outputs": [],
   "source": [
    "import pandas as pd\n",
    "\n",
    "import numpy as np\n",
    "\n",
    "from sklearn import svm\n",
    "\n",
    "from sklearn.metrics import confusion_matrix\n",
    "\n",
    "from sklearn.model_selection import GridSearchCV, train_test_split\n"
   ]
  },
  {
   "cell_type": "markdown",
   "metadata": {},
   "source": [
    "<h2>Importação os dados</h2>"
   ]
  },
  {
   "cell_type": "code",
   "execution_count": 2,
   "metadata": {},
   "outputs": [],
   "source": [
    "# Dados HOG\n",
    "data = pd.read_csv('../CSV/hog_descriptor.csv')\n",
    "\n",
    "# reordenando os índices do combinado\n",
    "data.reset_index(inplace=True)\n",
    "\n",
    "# removendo a coluna index\n",
    "data.drop('index',inplace=True,axis=1)\n"
   ]
  },
  {
   "cell_type": "markdown",
   "metadata": {},
   "source": [
    "<h2>Visão geral dos dados</h2>"
   ]
  },
  {
   "cell_type": "code",
   "execution_count": 3,
   "metadata": {
    "scrolled": true
   },
   "outputs": [
    {
     "name": "stdout",
     "output_type": "stream",
     "text": [
      "<class 'pandas.core.frame.DataFrame'>\n",
      "RangeIndex: 980 entries, 0 to 979\n",
      "Columns: 54433 entries, target to  54431\n",
      "dtypes: float64(54432), int64(1)\n",
      "memory usage: 407.0 MB\n"
     ]
    }
   ],
   "source": [
    "data.info()"
   ]
  },
  {
   "cell_type": "code",
   "execution_count": 4,
   "metadata": {},
   "outputs": [
    {
     "data": {
      "text/html": [
       "<div>\n",
       "<style scoped>\n",
       "    .dataframe tbody tr th:only-of-type {\n",
       "        vertical-align: middle;\n",
       "    }\n",
       "\n",
       "    .dataframe tbody tr th {\n",
       "        vertical-align: top;\n",
       "    }\n",
       "\n",
       "    .dataframe thead th {\n",
       "        text-align: right;\n",
       "    }\n",
       "</style>\n",
       "<table border=\"1\" class=\"dataframe\">\n",
       "  <thead>\n",
       "    <tr style=\"text-align: right;\">\n",
       "      <th></th>\n",
       "      <th>target</th>\n",
       "      <th>0</th>\n",
       "      <th>1</th>\n",
       "      <th>2</th>\n",
       "      <th>3</th>\n",
       "      <th>4</th>\n",
       "      <th>5</th>\n",
       "      <th>6</th>\n",
       "      <th>7</th>\n",
       "      <th>8</th>\n",
       "      <th>...</th>\n",
       "      <th>54422</th>\n",
       "      <th>54423</th>\n",
       "      <th>54424</th>\n",
       "      <th>54425</th>\n",
       "      <th>54426</th>\n",
       "      <th>54427</th>\n",
       "      <th>54428</th>\n",
       "      <th>54429</th>\n",
       "      <th>54430</th>\n",
       "      <th>54431</th>\n",
       "    </tr>\n",
       "  </thead>\n",
       "  <tbody>\n",
       "    <tr>\n",
       "      <th>0</th>\n",
       "      <td>1</td>\n",
       "      <td>0.208181</td>\n",
       "      <td>0.150515</td>\n",
       "      <td>0.064757</td>\n",
       "      <td>0.016695</td>\n",
       "      <td>0.026777</td>\n",
       "      <td>0.026108</td>\n",
       "      <td>0.010005</td>\n",
       "      <td>0.006094</td>\n",
       "      <td>0.007044</td>\n",
       "      <td>...</td>\n",
       "      <td>0.040279</td>\n",
       "      <td>0.054928</td>\n",
       "      <td>0.110584</td>\n",
       "      <td>0.142256</td>\n",
       "      <td>0.109918</td>\n",
       "      <td>0.038080</td>\n",
       "      <td>0.035740</td>\n",
       "      <td>0.012375</td>\n",
       "      <td>0.006640</td>\n",
       "      <td>0.000000</td>\n",
       "    </tr>\n",
       "    <tr>\n",
       "      <th>1</th>\n",
       "      <td>1</td>\n",
       "      <td>0.213755</td>\n",
       "      <td>0.148835</td>\n",
       "      <td>0.066078</td>\n",
       "      <td>0.015774</td>\n",
       "      <td>0.031457</td>\n",
       "      <td>0.034862</td>\n",
       "      <td>0.014060</td>\n",
       "      <td>0.009168</td>\n",
       "      <td>0.006409</td>\n",
       "      <td>...</td>\n",
       "      <td>0.040171</td>\n",
       "      <td>0.015146</td>\n",
       "      <td>0.062844</td>\n",
       "      <td>0.065486</td>\n",
       "      <td>0.038983</td>\n",
       "      <td>0.028825</td>\n",
       "      <td>0.005617</td>\n",
       "      <td>0.001974</td>\n",
       "      <td>0.002503</td>\n",
       "      <td>0.009721</td>\n",
       "    </tr>\n",
       "    <tr>\n",
       "      <th>2</th>\n",
       "      <td>1</td>\n",
       "      <td>0.185164</td>\n",
       "      <td>0.130037</td>\n",
       "      <td>0.058042</td>\n",
       "      <td>0.013199</td>\n",
       "      <td>0.037352</td>\n",
       "      <td>0.021519</td>\n",
       "      <td>0.007844</td>\n",
       "      <td>0.002675</td>\n",
       "      <td>0.005777</td>\n",
       "      <td>...</td>\n",
       "      <td>0.020911</td>\n",
       "      <td>0.034258</td>\n",
       "      <td>0.059160</td>\n",
       "      <td>0.091833</td>\n",
       "      <td>0.074700</td>\n",
       "      <td>0.090257</td>\n",
       "      <td>0.053171</td>\n",
       "      <td>0.014379</td>\n",
       "      <td>0.004649</td>\n",
       "      <td>0.007069</td>\n",
       "    </tr>\n",
       "    <tr>\n",
       "      <th>3</th>\n",
       "      <td>1</td>\n",
       "      <td>0.229406</td>\n",
       "      <td>0.153449</td>\n",
       "      <td>0.066902</td>\n",
       "      <td>0.013069</td>\n",
       "      <td>0.027790</td>\n",
       "      <td>0.031376</td>\n",
       "      <td>0.022858</td>\n",
       "      <td>0.004062</td>\n",
       "      <td>0.005356</td>\n",
       "      <td>...</td>\n",
       "      <td>0.038595</td>\n",
       "      <td>0.012723</td>\n",
       "      <td>0.081966</td>\n",
       "      <td>0.064900</td>\n",
       "      <td>0.075663</td>\n",
       "      <td>0.033495</td>\n",
       "      <td>0.013879</td>\n",
       "      <td>0.004317</td>\n",
       "      <td>0.000266</td>\n",
       "      <td>0.001156</td>\n",
       "    </tr>\n",
       "    <tr>\n",
       "      <th>4</th>\n",
       "      <td>1</td>\n",
       "      <td>0.215415</td>\n",
       "      <td>0.146891</td>\n",
       "      <td>0.067976</td>\n",
       "      <td>0.014313</td>\n",
       "      <td>0.037971</td>\n",
       "      <td>0.023427</td>\n",
       "      <td>0.011011</td>\n",
       "      <td>0.003561</td>\n",
       "      <td>0.004615</td>\n",
       "      <td>...</td>\n",
       "      <td>0.030863</td>\n",
       "      <td>0.011321</td>\n",
       "      <td>0.068860</td>\n",
       "      <td>0.118269</td>\n",
       "      <td>0.102620</td>\n",
       "      <td>0.042405</td>\n",
       "      <td>0.018853</td>\n",
       "      <td>0.008509</td>\n",
       "      <td>0.002275</td>\n",
       "      <td>0.004790</td>\n",
       "    </tr>\n",
       "  </tbody>\n",
       "</table>\n",
       "<p>5 rows × 54433 columns</p>\n",
       "</div>"
      ],
      "text/plain": [
       "   target         0         1         2         3         4         5  \\\n",
       "0       1  0.208181  0.150515  0.064757  0.016695  0.026777  0.026108   \n",
       "1       1  0.213755  0.148835  0.066078  0.015774  0.031457  0.034862   \n",
       "2       1  0.185164  0.130037  0.058042  0.013199  0.037352  0.021519   \n",
       "3       1  0.229406  0.153449  0.066902  0.013069  0.027790  0.031376   \n",
       "4       1  0.215415  0.146891  0.067976  0.014313  0.037971  0.023427   \n",
       "\n",
       "          6         7         8    ...        54422     54423     54424  \\\n",
       "0  0.010005  0.006094  0.007044    ...     0.040279  0.054928  0.110584   \n",
       "1  0.014060  0.009168  0.006409    ...     0.040171  0.015146  0.062844   \n",
       "2  0.007844  0.002675  0.005777    ...     0.020911  0.034258  0.059160   \n",
       "3  0.022858  0.004062  0.005356    ...     0.038595  0.012723  0.081966   \n",
       "4  0.011011  0.003561  0.004615    ...     0.030863  0.011321  0.068860   \n",
       "\n",
       "      54425     54426     54427     54428     54429     54430     54431  \n",
       "0  0.142256  0.109918  0.038080  0.035740  0.012375  0.006640  0.000000  \n",
       "1  0.065486  0.038983  0.028825  0.005617  0.001974  0.002503  0.009721  \n",
       "2  0.091833  0.074700  0.090257  0.053171  0.014379  0.004649  0.007069  \n",
       "3  0.064900  0.075663  0.033495  0.013879  0.004317  0.000266  0.001156  \n",
       "4  0.118269  0.102620  0.042405  0.018853  0.008509  0.002275  0.004790  \n",
       "\n",
       "[5 rows x 54433 columns]"
      ]
     },
     "execution_count": 4,
     "metadata": {},
     "output_type": "execute_result"
    }
   ],
   "source": [
    "data.head()"
   ]
  },
  {
   "cell_type": "code",
   "execution_count": null,
   "metadata": {},
   "outputs": [
    {
     "data": {
      "text/html": [
       "<div>\n",
       "<style scoped>\n",
       "    .dataframe tbody tr th:only-of-type {\n",
       "        vertical-align: middle;\n",
       "    }\n",
       "\n",
       "    .dataframe tbody tr th {\n",
       "        vertical-align: top;\n",
       "    }\n",
       "\n",
       "    .dataframe thead th {\n",
       "        text-align: right;\n",
       "    }\n",
       "</style>\n",
       "<table border=\"1\" class=\"dataframe\">\n",
       "  <thead>\n",
       "    <tr style=\"text-align: right;\">\n",
       "      <th></th>\n",
       "      <th>target</th>\n",
       "      <th>0</th>\n",
       "      <th>1</th>\n",
       "      <th>2</th>\n",
       "      <th>3</th>\n",
       "      <th>4</th>\n",
       "      <th>5</th>\n",
       "      <th>6</th>\n",
       "      <th>7</th>\n",
       "      <th>8</th>\n",
       "      <th>...</th>\n",
       "      <th>54422</th>\n",
       "      <th>54423</th>\n",
       "      <th>54424</th>\n",
       "      <th>54425</th>\n",
       "      <th>54426</th>\n",
       "      <th>54427</th>\n",
       "      <th>54428</th>\n",
       "      <th>54429</th>\n",
       "      <th>54430</th>\n",
       "      <th>54431</th>\n",
       "    </tr>\n",
       "  </thead>\n",
       "  <tbody>\n",
       "    <tr>\n",
       "      <th>975</th>\n",
       "      <td>0</td>\n",
       "      <td>0.360235</td>\n",
       "      <td>0.214650</td>\n",
       "      <td>0.103287</td>\n",
       "      <td>0.000000</td>\n",
       "      <td>0.000000</td>\n",
       "      <td>0.000131</td>\n",
       "      <td>0.001964</td>\n",
       "      <td>0.014979</td>\n",
       "      <td>0.035963</td>\n",
       "      <td>...</td>\n",
       "      <td>0.000205</td>\n",
       "      <td>0.000130</td>\n",
       "      <td>0.002244</td>\n",
       "      <td>0.004315</td>\n",
       "      <td>0.008233</td>\n",
       "      <td>0.011525</td>\n",
       "      <td>0.020993</td>\n",
       "      <td>0.012358</td>\n",
       "      <td>0.002439</td>\n",
       "      <td>0.002340</td>\n",
       "    </tr>\n",
       "    <tr>\n",
       "      <th>976</th>\n",
       "      <td>0</td>\n",
       "      <td>0.369018</td>\n",
       "      <td>0.201791</td>\n",
       "      <td>0.098409</td>\n",
       "      <td>0.000000</td>\n",
       "      <td>0.000000</td>\n",
       "      <td>0.000000</td>\n",
       "      <td>0.000224</td>\n",
       "      <td>0.001086</td>\n",
       "      <td>0.002065</td>\n",
       "      <td>...</td>\n",
       "      <td>0.007737</td>\n",
       "      <td>0.001674</td>\n",
       "      <td>0.002452</td>\n",
       "      <td>0.004846</td>\n",
       "      <td>0.002704</td>\n",
       "      <td>0.003404</td>\n",
       "      <td>0.006845</td>\n",
       "      <td>0.002833</td>\n",
       "      <td>0.001848</td>\n",
       "      <td>0.000528</td>\n",
       "    </tr>\n",
       "    <tr>\n",
       "      <th>977</th>\n",
       "      <td>0</td>\n",
       "      <td>0.377378</td>\n",
       "      <td>0.219575</td>\n",
       "      <td>0.110629</td>\n",
       "      <td>0.001726</td>\n",
       "      <td>0.000295</td>\n",
       "      <td>0.000028</td>\n",
       "      <td>0.000394</td>\n",
       "      <td>0.000956</td>\n",
       "      <td>0.000293</td>\n",
       "      <td>...</td>\n",
       "      <td>0.005227</td>\n",
       "      <td>0.001077</td>\n",
       "      <td>0.000421</td>\n",
       "      <td>0.004481</td>\n",
       "      <td>0.011474</td>\n",
       "      <td>0.103370</td>\n",
       "      <td>0.280199</td>\n",
       "      <td>0.018166</td>\n",
       "      <td>0.003045</td>\n",
       "      <td>0.002427</td>\n",
       "    </tr>\n",
       "    <tr>\n",
       "      <th>978</th>\n",
       "      <td>0</td>\n",
       "      <td>0.406008</td>\n",
       "      <td>0.257660</td>\n",
       "      <td>0.123217</td>\n",
       "      <td>0.002802</td>\n",
       "      <td>0.042895</td>\n",
       "      <td>0.035157</td>\n",
       "      <td>0.001766</td>\n",
       "      <td>0.001048</td>\n",
       "      <td>0.021213</td>\n",
       "      <td>...</td>\n",
       "      <td>0.007101</td>\n",
       "      <td>0.000000</td>\n",
       "      <td>0.000000</td>\n",
       "      <td>0.000000</td>\n",
       "      <td>0.000550</td>\n",
       "      <td>0.021762</td>\n",
       "      <td>0.119151</td>\n",
       "      <td>0.022331</td>\n",
       "      <td>0.000630</td>\n",
       "      <td>0.000000</td>\n",
       "    </tr>\n",
       "    <tr>\n",
       "      <th>979</th>\n",
       "      <td>0</td>\n",
       "      <td>0.380695</td>\n",
       "      <td>0.237755</td>\n",
       "      <td>0.117015</td>\n",
       "      <td>0.005606</td>\n",
       "      <td>0.022387</td>\n",
       "      <td>0.030074</td>\n",
       "      <td>0.001918</td>\n",
       "      <td>0.000814</td>\n",
       "      <td>0.017582</td>\n",
       "      <td>...</td>\n",
       "      <td>0.000000</td>\n",
       "      <td>0.000000</td>\n",
       "      <td>0.000000</td>\n",
       "      <td>0.000265</td>\n",
       "      <td>0.363518</td>\n",
       "      <td>0.239328</td>\n",
       "      <td>0.000344</td>\n",
       "      <td>0.000000</td>\n",
       "      <td>0.000000</td>\n",
       "      <td>0.000000</td>\n",
       "    </tr>\n",
       "  </tbody>\n",
       "</table>\n",
       "<p>5 rows × 54433 columns</p>\n",
       "</div>"
      ],
      "text/plain": [
       "     target         0         1         2         3         4         5  \\\n",
       "975       0  0.360235  0.214650  0.103287  0.000000  0.000000  0.000131   \n",
       "976       0  0.369018  0.201791  0.098409  0.000000  0.000000  0.000000   \n",
       "977       0  0.377378  0.219575  0.110629  0.001726  0.000295  0.000028   \n",
       "978       0  0.406008  0.257660  0.123217  0.002802  0.042895  0.035157   \n",
       "979       0  0.380695  0.237755  0.117015  0.005606  0.022387  0.030074   \n",
       "\n",
       "            6         7         8    ...        54422     54423     54424  \\\n",
       "975  0.001964  0.014979  0.035963    ...     0.000205  0.000130  0.002244   \n",
       "976  0.000224  0.001086  0.002065    ...     0.007737  0.001674  0.002452   \n",
       "977  0.000394  0.000956  0.000293    ...     0.005227  0.001077  0.000421   \n",
       "978  0.001766  0.001048  0.021213    ...     0.007101  0.000000  0.000000   \n",
       "979  0.001918  0.000814  0.017582    ...     0.000000  0.000000  0.000000   \n",
       "\n",
       "        54425     54426     54427     54428     54429     54430     54431  \n",
       "975  0.004315  0.008233  0.011525  0.020993  0.012358  0.002439  0.002340  \n",
       "976  0.004846  0.002704  0.003404  0.006845  0.002833  0.001848  0.000528  \n",
       "977  0.004481  0.011474  0.103370  0.280199  0.018166  0.003045  0.002427  \n",
       "978  0.000000  0.000550  0.021762  0.119151  0.022331  0.000630  0.000000  \n",
       "979  0.000265  0.363518  0.239328  0.000344  0.000000  0.000000  0.000000  \n",
       "\n",
       "[5 rows x 54433 columns]"
      ]
     },
     "execution_count": 5,
     "metadata": {},
     "output_type": "execute_result"
    }
   ],
   "source": [
    "data.tail()"
   ]
  },
  {
   "cell_type": "markdown",
   "metadata": {},
   "source": [
    "<h2>Separação dos dados em conjunto de Treino e Teste</h2>"
   ]
  },
  {
   "cell_type": "code",
   "execution_count": null,
   "metadata": {},
   "outputs": [],
   "source": [
    "Y = data.target"
   ]
  },
  {
   "cell_type": "code",
   "execution_count": null,
   "metadata": {},
   "outputs": [],
   "source": [
    "data.drop('target',inplace=True,axis=1)"
   ]
  },
  {
   "cell_type": "code",
   "execution_count": null,
   "metadata": {},
   "outputs": [],
   "source": [
    "X = data"
   ]
  },
  {
   "cell_type": "code",
   "execution_count": null,
   "metadata": {},
   "outputs": [],
   "source": [
    "\n",
    "X_train, X_test, y_train, y_test = train_test_split(X, Y, test_size = 0.2, random_state=0)"
   ]
  },
  {
   "cell_type": "markdown",
   "metadata": {},
   "source": [
    "<h2>Modelo SVM</h2>"
   ]
  },
  {
   "cell_type": "code",
   "execution_count": null,
   "metadata": {},
   "outputs": [],
   "source": [
    "clf = svm.SVC(kernel='linear', C = 100, probability=True)"
   ]
  },
  {
   "cell_type": "code",
   "execution_count": null,
   "metadata": {},
   "outputs": [
    {
     "data": {
      "text/plain": [
       "SVC(C=100, cache_size=200, class_weight=None, coef0=0.0,\n",
       "  decision_function_shape='ovr', degree=3, gamma='auto_deprecated',\n",
       "  kernel='linear', max_iter=-1, probability=True, random_state=None,\n",
       "  shrinking=True, tol=0.001, verbose=False)"
      ]
     },
     "execution_count": 11,
     "metadata": {},
     "output_type": "execute_result"
    }
   ],
   "source": [
    "clf.fit(X_train, y_train)"
   ]
  },
  {
   "cell_type": "code",
   "execution_count": null,
   "metadata": {},
   "outputs": [],
   "source": [
    "clf_predictions = clf.predict_proba(X_test)"
   ]
  },
  {
   "cell_type": "code",
   "execution_count": null,
   "metadata": {},
   "outputs": [],
   "source": [
    "print(\"Accuracy: {}%\".format(clf.score(X_test, y_test) * 100 ))"
   ]
  },
  {
   "cell_type": "markdown",
   "metadata": {},
   "source": [
    "<h2>Exportação dos parametros do modelo</h2>"
   ]
  },
  {
   "cell_type": "code",
   "execution_count": null,
   "metadata": {},
   "outputs": [],
   "source": [
    "W = np.dot(np.array(clf.dual_coef_), np.array(clf.support_vectors_))"
   ]
  },
  {
   "cell_type": "code",
   "execution_count": null,
   "metadata": {},
   "outputs": [],
   "source": [
    "B = clf.intercept_"
   ]
  },
  {
   "cell_type": "code",
   "execution_count": null,
   "metadata": {},
   "outputs": [],
   "source": [
    "W = np.ravel(W)\n",
    "W = W.astype(\"float32\")\n",
    "fw = open(\"W_8_4\", \"wb\")\n",
    "W.tofile(fw)"
   ]
  },
  {
   "cell_type": "code",
   "execution_count": null,
   "metadata": {},
   "outputs": [],
   "source": [
    "B = np.ravel(B)\n",
    "B = B.astype(\"float32\")\n",
    "fi = open(\"B_8_4\", \"wb\")\n",
    "B.tofile(fi)"
   ]
  },
  {
   "cell_type": "code",
   "execution_count": null,
   "metadata": {},
   "outputs": [],
   "source": [
    "print(clf_predictions[8])"
   ]
  },
  {
   "cell_type": "code",
   "execution_count": null,
   "metadata": {},
   "outputs": [],
   "source": [
    "B"
   ]
  },
  {
   "cell_type": "code",
   "execution_count": null,
   "metadata": {},
   "outputs": [],
   "source": []
  },
  {
   "cell_type": "code",
   "execution_count": null,
   "metadata": {},
   "outputs": [],
   "source": []
  },
  {
   "cell_type": "code",
   "execution_count": null,
   "metadata": {},
   "outputs": [],
   "source": []
  },
  {
   "cell_type": "code",
   "execution_count": null,
   "metadata": {},
   "outputs": [],
   "source": []
  },
  {
   "cell_type": "code",
   "execution_count": null,
   "metadata": {},
   "outputs": [],
   "source": []
  },
  {
   "cell_type": "code",
   "execution_count": null,
   "metadata": {},
   "outputs": [],
   "source": []
  },
  {
   "cell_type": "code",
   "execution_count": null,
   "metadata": {},
   "outputs": [],
   "source": []
  }
 ],
 "metadata": {
  "kernelspec": {
   "display_name": "Python 3",
   "language": "python",
   "name": "python3"
  },
  "language_info": {
   "codemirror_mode": {
    "name": "ipython",
    "version": 3
   },
   "file_extension": ".py",
   "mimetype": "text/x-python",
   "name": "python",
   "nbconvert_exporter": "python",
   "pygments_lexer": "ipython3",
   "version": "3.6.7"
  }
 },
 "nbformat": 4,
 "nbformat_minor": 2
}
