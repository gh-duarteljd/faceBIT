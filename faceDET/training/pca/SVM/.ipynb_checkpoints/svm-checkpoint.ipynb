{
 "cells": [
  {
   "cell_type": "markdown",
   "metadata": {},
   "source": [
    "<h1>faceBIT</h1>"
   ]
  },
  {
   "cell_type": "markdown",
   "metadata": {},
   "source": [
    "<h3>bibliotecas</h3>"
   ]
  },
  {
   "cell_type": "code",
   "execution_count": 1,
   "metadata": {
    "collapsed": true
   },
   "outputs": [],
   "source": [
    "import pandas as pd\n",
    "\n",
    "import numpy as np\n",
    "\n",
    "from sklearn import svm\n",
    "\n",
    "from sklearn.model_selection import GridSearchCV, train_test_split\n"
   ]
  },
  {
   "cell_type": "markdown",
   "metadata": {},
   "source": [
    "<h2>Importação os dados</h2>"
   ]
  },
  {
   "cell_type": "code",
   "execution_count": 2,
   "metadata": {
    "collapsed": true
   },
   "outputs": [],
   "source": [
    "# Dados features PCA\n",
    "data = pd.read_csv('../CSV/pca_descriptor.csv')\n",
    "\n",
    "# reordenando os índices do combinado\n",
    "data.reset_index(inplace=True)\n",
    "\n",
    "# removendo a coluna index\n",
    "data.drop('index',inplace=True,axis=1)\n"
   ]
  },
  {
   "cell_type": "markdown",
   "metadata": {},
   "source": [
    "<h2>Visão geral dos dados</h2>"
   ]
  },
  {
   "cell_type": "code",
   "execution_count": 3,
   "metadata": {
    "scrolled": true
   },
   "outputs": [
    {
     "name": "stdout",
     "output_type": "stream",
     "text": [
      "<class 'pandas.core.frame.DataFrame'>\n",
      "RangeIndex: 1800 entries, 0 to 1799\n",
      "Data columns (total 31 columns):\n",
      "target    1800 non-null int64\n",
      " 0        1800 non-null float64\n",
      " 1        1800 non-null float64\n",
      " 2        1800 non-null float64\n",
      " 3        1800 non-null float64\n",
      " 4        1800 non-null float64\n",
      " 5        1800 non-null float64\n",
      " 6        1800 non-null float64\n",
      " 7        1800 non-null float64\n",
      " 8        1800 non-null float64\n",
      " 9        1800 non-null float64\n",
      " 10       1800 non-null float64\n",
      " 11       1800 non-null float64\n",
      " 12       1800 non-null float64\n",
      " 13       1800 non-null float64\n",
      " 14       1800 non-null float64\n",
      " 15       1800 non-null float64\n",
      " 16       1800 non-null float64\n",
      " 17       1800 non-null float64\n",
      " 18       1800 non-null float64\n",
      " 19       1800 non-null float64\n",
      " 20       1800 non-null float64\n",
      " 21       1800 non-null float64\n",
      " 22       1800 non-null float64\n",
      " 23       1800 non-null float64\n",
      " 24       1800 non-null float64\n",
      " 25       1800 non-null float64\n",
      " 26       1800 non-null float64\n",
      " 27       1800 non-null float64\n",
      " 28       1800 non-null float64\n",
      " 29       1800 non-null float64\n",
      "dtypes: float64(30), int64(1)\n",
      "memory usage: 436.0 KB\n"
     ]
    }
   ],
   "source": [
    "data.info()"
   ]
  },
  {
   "cell_type": "code",
   "execution_count": 4,
   "metadata": {},
   "outputs": [
    {
     "data": {
      "text/html": [
       "<div>\n",
       "<table border=\"1\" class=\"dataframe\">\n",
       "  <thead>\n",
       "    <tr style=\"text-align: right;\">\n",
       "      <th></th>\n",
       "      <th>target</th>\n",
       "      <th>0</th>\n",
       "      <th>1</th>\n",
       "      <th>2</th>\n",
       "      <th>3</th>\n",
       "      <th>4</th>\n",
       "      <th>5</th>\n",
       "      <th>6</th>\n",
       "      <th>7</th>\n",
       "      <th>8</th>\n",
       "      <th>...</th>\n",
       "      <th>20</th>\n",
       "      <th>21</th>\n",
       "      <th>22</th>\n",
       "      <th>23</th>\n",
       "      <th>24</th>\n",
       "      <th>25</th>\n",
       "      <th>26</th>\n",
       "      <th>27</th>\n",
       "      <th>28</th>\n",
       "      <th>29</th>\n",
       "    </tr>\n",
       "  </thead>\n",
       "  <tbody>\n",
       "    <tr>\n",
       "      <th>0</th>\n",
       "      <td>1</td>\n",
       "      <td>38.227261</td>\n",
       "      <td>54.987560</td>\n",
       "      <td>150.765121</td>\n",
       "      <td>84.762665</td>\n",
       "      <td>5.744239</td>\n",
       "      <td>108.822784</td>\n",
       "      <td>-133.594589</td>\n",
       "      <td>64.880249</td>\n",
       "      <td>-67.951714</td>\n",
       "      <td>...</td>\n",
       "      <td>45.891701</td>\n",
       "      <td>58.740719</td>\n",
       "      <td>139.672073</td>\n",
       "      <td>60.993164</td>\n",
       "      <td>-7.620402</td>\n",
       "      <td>96.233261</td>\n",
       "      <td>-148.393585</td>\n",
       "      <td>71.966484</td>\n",
       "      <td>-60.424252</td>\n",
       "      <td>46.480610</td>\n",
       "    </tr>\n",
       "    <tr>\n",
       "      <th>1</th>\n",
       "      <td>1</td>\n",
       "      <td>40.821381</td>\n",
       "      <td>-66.422356</td>\n",
       "      <td>107.973907</td>\n",
       "      <td>36.064297</td>\n",
       "      <td>112.022110</td>\n",
       "      <td>52.247074</td>\n",
       "      <td>-257.715363</td>\n",
       "      <td>175.686447</td>\n",
       "      <td>-8.359835</td>\n",
       "      <td>...</td>\n",
       "      <td>57.677605</td>\n",
       "      <td>-66.134872</td>\n",
       "      <td>86.194031</td>\n",
       "      <td>30.892843</td>\n",
       "      <td>103.733940</td>\n",
       "      <td>24.805952</td>\n",
       "      <td>-272.783905</td>\n",
       "      <td>176.976410</td>\n",
       "      <td>1.420654</td>\n",
       "      <td>72.768814</td>\n",
       "    </tr>\n",
       "    <tr>\n",
       "      <th>2</th>\n",
       "      <td>1</td>\n",
       "      <td>-36.515125</td>\n",
       "      <td>80.041000</td>\n",
       "      <td>153.172272</td>\n",
       "      <td>103.630562</td>\n",
       "      <td>-126.768585</td>\n",
       "      <td>141.288910</td>\n",
       "      <td>-47.261539</td>\n",
       "      <td>-44.963436</td>\n",
       "      <td>-57.388844</td>\n",
       "      <td>...</td>\n",
       "      <td>-42.185036</td>\n",
       "      <td>77.971642</td>\n",
       "      <td>142.148270</td>\n",
       "      <td>99.282875</td>\n",
       "      <td>-135.334595</td>\n",
       "      <td>139.764923</td>\n",
       "      <td>-39.892506</td>\n",
       "      <td>-44.461147</td>\n",
       "      <td>-73.610420</td>\n",
       "      <td>6.912329</td>\n",
       "    </tr>\n",
       "    <tr>\n",
       "      <th>3</th>\n",
       "      <td>1</td>\n",
       "      <td>89.128250</td>\n",
       "      <td>75.799736</td>\n",
       "      <td>144.451706</td>\n",
       "      <td>102.122375</td>\n",
       "      <td>105.896591</td>\n",
       "      <td>74.468002</td>\n",
       "      <td>-205.587570</td>\n",
       "      <td>124.091293</td>\n",
       "      <td>-96.243507</td>\n",
       "      <td>...</td>\n",
       "      <td>93.701500</td>\n",
       "      <td>67.814384</td>\n",
       "      <td>134.432800</td>\n",
       "      <td>105.329597</td>\n",
       "      <td>90.490105</td>\n",
       "      <td>73.463905</td>\n",
       "      <td>-204.419144</td>\n",
       "      <td>126.585213</td>\n",
       "      <td>-87.810997</td>\n",
       "      <td>33.207424</td>\n",
       "    </tr>\n",
       "    <tr>\n",
       "      <th>4</th>\n",
       "      <td>1</td>\n",
       "      <td>50.591583</td>\n",
       "      <td>153.393845</td>\n",
       "      <td>152.060776</td>\n",
       "      <td>115.166008</td>\n",
       "      <td>-32.699188</td>\n",
       "      <td>128.397568</td>\n",
       "      <td>-89.415520</td>\n",
       "      <td>0.606826</td>\n",
       "      <td>-117.426674</td>\n",
       "      <td>...</td>\n",
       "      <td>50.211533</td>\n",
       "      <td>144.935699</td>\n",
       "      <td>147.430389</td>\n",
       "      <td>117.813553</td>\n",
       "      <td>-50.639336</td>\n",
       "      <td>129.401077</td>\n",
       "      <td>-78.620110</td>\n",
       "      <td>14.551367</td>\n",
       "      <td>-125.042519</td>\n",
       "      <td>-8.953915</td>\n",
       "    </tr>\n",
       "  </tbody>\n",
       "</table>\n",
       "<p>5 rows × 31 columns</p>\n",
       "</div>"
      ],
      "text/plain": [
       "   target          0           1           2           3           4  \\\n",
       "0       1  38.227261   54.987560  150.765121   84.762665    5.744239   \n",
       "1       1  40.821381  -66.422356  107.973907   36.064297  112.022110   \n",
       "2       1 -36.515125   80.041000  153.172272  103.630562 -126.768585   \n",
       "3       1  89.128250   75.799736  144.451706  102.122375  105.896591   \n",
       "4       1  50.591583  153.393845  152.060776  115.166008  -32.699188   \n",
       "\n",
       "            5           6           7           8    ...             20  \\\n",
       "0  108.822784 -133.594589   64.880249  -67.951714    ...      45.891701   \n",
       "1   52.247074 -257.715363  175.686447   -8.359835    ...      57.677605   \n",
       "2  141.288910  -47.261539  -44.963436  -57.388844    ...     -42.185036   \n",
       "3   74.468002 -205.587570  124.091293  -96.243507    ...      93.701500   \n",
       "4  128.397568  -89.415520    0.606826 -117.426674    ...      50.211533   \n",
       "\n",
       "           21          22          23          24          25          26  \\\n",
       "0   58.740719  139.672073   60.993164   -7.620402   96.233261 -148.393585   \n",
       "1  -66.134872   86.194031   30.892843  103.733940   24.805952 -272.783905   \n",
       "2   77.971642  142.148270   99.282875 -135.334595  139.764923  -39.892506   \n",
       "3   67.814384  134.432800  105.329597   90.490105   73.463905 -204.419144   \n",
       "4  144.935699  147.430389  117.813553  -50.639336  129.401077  -78.620110   \n",
       "\n",
       "           27          28         29  \n",
       "0   71.966484  -60.424252  46.480610  \n",
       "1  176.976410    1.420654  72.768814  \n",
       "2  -44.461147  -73.610420   6.912329  \n",
       "3  126.585213  -87.810997  33.207424  \n",
       "4   14.551367 -125.042519  -8.953915  \n",
       "\n",
       "[5 rows x 31 columns]"
      ]
     },
     "execution_count": 4,
     "metadata": {},
     "output_type": "execute_result"
    }
   ],
   "source": [
    "data.head()"
   ]
  },
  {
   "cell_type": "code",
   "execution_count": 5,
   "metadata": {},
   "outputs": [
    {
     "data": {
      "text/html": [
       "<div>\n",
       "<table border=\"1\" class=\"dataframe\">\n",
       "  <thead>\n",
       "    <tr style=\"text-align: right;\">\n",
       "      <th></th>\n",
       "      <th>target</th>\n",
       "      <th>0</th>\n",
       "      <th>1</th>\n",
       "      <th>2</th>\n",
       "      <th>3</th>\n",
       "      <th>4</th>\n",
       "      <th>5</th>\n",
       "      <th>6</th>\n",
       "      <th>7</th>\n",
       "      <th>8</th>\n",
       "      <th>...</th>\n",
       "      <th>20</th>\n",
       "      <th>21</th>\n",
       "      <th>22</th>\n",
       "      <th>23</th>\n",
       "      <th>24</th>\n",
       "      <th>25</th>\n",
       "      <th>26</th>\n",
       "      <th>27</th>\n",
       "      <th>28</th>\n",
       "      <th>29</th>\n",
       "    </tr>\n",
       "  </thead>\n",
       "  <tbody>\n",
       "    <tr>\n",
       "      <th>1795</th>\n",
       "      <td>0</td>\n",
       "      <td>435.775726</td>\n",
       "      <td>450.605194</td>\n",
       "      <td>56.692734</td>\n",
       "      <td>325.233582</td>\n",
       "      <td>140.781372</td>\n",
       "      <td>-21.250366</td>\n",
       "      <td>210.922653</td>\n",
       "      <td>-87.901634</td>\n",
       "      <td>-298.682129</td>\n",
       "      <td>...</td>\n",
       "      <td>436.493256</td>\n",
       "      <td>529.912048</td>\n",
       "      <td>185.038986</td>\n",
       "      <td>343.633606</td>\n",
       "      <td>161.136505</td>\n",
       "      <td>40.414307</td>\n",
       "      <td>105.738419</td>\n",
       "      <td>-61.743111</td>\n",
       "      <td>-272.527832</td>\n",
       "      <td>-273.638184</td>\n",
       "    </tr>\n",
       "    <tr>\n",
       "      <th>1796</th>\n",
       "      <td>0</td>\n",
       "      <td>506.940491</td>\n",
       "      <td>590.978943</td>\n",
       "      <td>206.454758</td>\n",
       "      <td>448.835266</td>\n",
       "      <td>504.235474</td>\n",
       "      <td>-15.381807</td>\n",
       "      <td>134.120087</td>\n",
       "      <td>-19.822710</td>\n",
       "      <td>-358.908142</td>\n",
       "      <td>...</td>\n",
       "      <td>411.580109</td>\n",
       "      <td>538.186707</td>\n",
       "      <td>214.160507</td>\n",
       "      <td>403.022766</td>\n",
       "      <td>454.209320</td>\n",
       "      <td>-9.865706</td>\n",
       "      <td>83.231827</td>\n",
       "      <td>-58.839046</td>\n",
       "      <td>-388.610291</td>\n",
       "      <td>-220.239319</td>\n",
       "    </tr>\n",
       "    <tr>\n",
       "      <th>1797</th>\n",
       "      <td>0</td>\n",
       "      <td>695.491516</td>\n",
       "      <td>714.886230</td>\n",
       "      <td>255.150085</td>\n",
       "      <td>387.451721</td>\n",
       "      <td>294.248810</td>\n",
       "      <td>97.477356</td>\n",
       "      <td>74.162560</td>\n",
       "      <td>-50.489487</td>\n",
       "      <td>-459.630676</td>\n",
       "      <td>...</td>\n",
       "      <td>669.940247</td>\n",
       "      <td>679.812683</td>\n",
       "      <td>244.045029</td>\n",
       "      <td>314.475128</td>\n",
       "      <td>275.014923</td>\n",
       "      <td>157.546219</td>\n",
       "      <td>-3.556436</td>\n",
       "      <td>-105.447006</td>\n",
       "      <td>-441.072479</td>\n",
       "      <td>-265.260101</td>\n",
       "    </tr>\n",
       "    <tr>\n",
       "      <th>1798</th>\n",
       "      <td>0</td>\n",
       "      <td>724.425354</td>\n",
       "      <td>746.418396</td>\n",
       "      <td>249.985764</td>\n",
       "      <td>391.596558</td>\n",
       "      <td>308.792206</td>\n",
       "      <td>96.831726</td>\n",
       "      <td>82.907715</td>\n",
       "      <td>-64.648743</td>\n",
       "      <td>-481.300659</td>\n",
       "      <td>...</td>\n",
       "      <td>694.601685</td>\n",
       "      <td>714.590759</td>\n",
       "      <td>243.222565</td>\n",
       "      <td>313.233856</td>\n",
       "      <td>286.643005</td>\n",
       "      <td>158.123306</td>\n",
       "      <td>2.834930</td>\n",
       "      <td>-118.896629</td>\n",
       "      <td>-465.042358</td>\n",
       "      <td>-281.090607</td>\n",
       "    </tr>\n",
       "    <tr>\n",
       "      <th>1799</th>\n",
       "      <td>0</td>\n",
       "      <td>759.837891</td>\n",
       "      <td>780.862793</td>\n",
       "      <td>259.177765</td>\n",
       "      <td>401.271790</td>\n",
       "      <td>322.563660</td>\n",
       "      <td>101.544998</td>\n",
       "      <td>87.668739</td>\n",
       "      <td>-58.172283</td>\n",
       "      <td>-504.668152</td>\n",
       "      <td>...</td>\n",
       "      <td>731.810242</td>\n",
       "      <td>746.285767</td>\n",
       "      <td>249.482376</td>\n",
       "      <td>323.329651</td>\n",
       "      <td>301.718231</td>\n",
       "      <td>165.219284</td>\n",
       "      <td>-0.648183</td>\n",
       "      <td>-119.126945</td>\n",
       "      <td>-482.737762</td>\n",
       "      <td>-286.021057</td>\n",
       "    </tr>\n",
       "  </tbody>\n",
       "</table>\n",
       "<p>5 rows × 31 columns</p>\n",
       "</div>"
      ],
      "text/plain": [
       "      target           0           1           2           3           4  \\\n",
       "1795       0  435.775726  450.605194   56.692734  325.233582  140.781372   \n",
       "1796       0  506.940491  590.978943  206.454758  448.835266  504.235474   \n",
       "1797       0  695.491516  714.886230  255.150085  387.451721  294.248810   \n",
       "1798       0  724.425354  746.418396  249.985764  391.596558  308.792206   \n",
       "1799       0  759.837891  780.862793  259.177765  401.271790  322.563660   \n",
       "\n",
       "               5           6          7           8     ...              20  \\\n",
       "1795  -21.250366  210.922653 -87.901634 -298.682129     ...      436.493256   \n",
       "1796  -15.381807  134.120087 -19.822710 -358.908142     ...      411.580109   \n",
       "1797   97.477356   74.162560 -50.489487 -459.630676     ...      669.940247   \n",
       "1798   96.831726   82.907715 -64.648743 -481.300659     ...      694.601685   \n",
       "1799  101.544998   87.668739 -58.172283 -504.668152     ...      731.810242   \n",
       "\n",
       "              21          22          23          24          25          26  \\\n",
       "1795  529.912048  185.038986  343.633606  161.136505   40.414307  105.738419   \n",
       "1796  538.186707  214.160507  403.022766  454.209320   -9.865706   83.231827   \n",
       "1797  679.812683  244.045029  314.475128  275.014923  157.546219   -3.556436   \n",
       "1798  714.590759  243.222565  313.233856  286.643005  158.123306    2.834930   \n",
       "1799  746.285767  249.482376  323.329651  301.718231  165.219284   -0.648183   \n",
       "\n",
       "              27          28          29  \n",
       "1795  -61.743111 -272.527832 -273.638184  \n",
       "1796  -58.839046 -388.610291 -220.239319  \n",
       "1797 -105.447006 -441.072479 -265.260101  \n",
       "1798 -118.896629 -465.042358 -281.090607  \n",
       "1799 -119.126945 -482.737762 -286.021057  \n",
       "\n",
       "[5 rows x 31 columns]"
      ]
     },
     "execution_count": 5,
     "metadata": {},
     "output_type": "execute_result"
    }
   ],
   "source": [
    "data.tail()"
   ]
  },
  {
   "cell_type": "markdown",
   "metadata": {},
   "source": [
    "<h2>Separação dos dados em conjunto de Treino e Teste</h2>"
   ]
  },
  {
   "cell_type": "code",
   "execution_count": 6,
   "metadata": {
    "collapsed": true
   },
   "outputs": [],
   "source": [
    "Y = data.target"
   ]
  },
  {
   "cell_type": "code",
   "execution_count": 7,
   "metadata": {
    "collapsed": true
   },
   "outputs": [],
   "source": [
    "data.drop('target',inplace=True,axis=1)"
   ]
  },
  {
   "cell_type": "code",
   "execution_count": 8,
   "metadata": {
    "collapsed": true
   },
   "outputs": [],
   "source": [
    "X = data"
   ]
  },
  {
   "cell_type": "code",
   "execution_count": 9,
   "metadata": {
    "collapsed": true
   },
   "outputs": [],
   "source": [
    "\n",
    "X_train, X_test, y_train, y_test = train_test_split(X, Y, test_size = 0.333, random_state=0)"
   ]
  },
  {
   "cell_type": "markdown",
   "metadata": {},
   "source": [
    "<h2>Modelo SVM</h2>"
   ]
  },
  {
   "cell_type": "code",
   "execution_count": 10,
   "metadata": {
    "collapsed": true
   },
   "outputs": [],
   "source": [
    "clf = svm.SVC(kernel='linear', C = 100, probability=True)"
   ]
  },
  {
   "cell_type": "code",
   "execution_count": null,
   "metadata": {
    "collapsed": true
   },
   "outputs": [],
   "source": [
    "clf.fit(X_train, y_train)"
   ]
  },
  {
   "cell_type": "code",
   "execution_count": null,
   "metadata": {
    "collapsed": true
   },
   "outputs": [],
   "source": [
    "clf_predictions = clf.predict_proba(X_test)"
   ]
  },
  {
   "cell_type": "code",
   "execution_count": null,
   "metadata": {
    "collapsed": true
   },
   "outputs": [],
   "source": [
    "print(\"Accuracy: {}%\".format(clf.score(X_test, y_test) * 100 ))"
   ]
  },
  {
   "cell_type": "markdown",
   "metadata": {},
   "source": [
    "<h2>Exportação dos parametros do modelo</h2>"
   ]
  },
  {
   "cell_type": "code",
   "execution_count": null,
   "metadata": {
    "collapsed": true
   },
   "outputs": [],
   "source": [
    "W = np.dot(np.array(clf.dual_coef_), np.array(clf.support_vectors_))\n"
   ]
  },
  {
   "cell_type": "code",
   "execution_count": null,
   "metadata": {
    "collapsed": true
   },
   "outputs": [],
   "source": [
    "B = clf.intercept_"
   ]
  },
  {
   "cell_type": "code",
   "execution_count": null,
   "metadata": {
    "collapsed": true
   },
   "outputs": [],
   "source": [
    "W = np.ravel(W)\n",
    "W = W.astype(\"float32\")\n",
    "fw = open(\"W\", \"wb\")\n",
    "W.tofile(fw)"
   ]
  },
  {
   "cell_type": "code",
   "execution_count": null,
   "metadata": {
    "collapsed": true
   },
   "outputs": [],
   "source": [
    "B = np.ravel(B)\n",
    "B = B.astype(\"float32\")\n",
    "fi = open(\"B\", \"wb\")\n",
    "B.tofile(fi)"
   ]
  },
  {
   "cell_type": "code",
   "execution_count": null,
   "metadata": {
    "collapsed": true
   },
   "outputs": [],
   "source": []
  }
 ],
 "metadata": {
  "kernelspec": {
   "display_name": "Python 2",
   "language": "python",
   "name": "python2"
  },
  "language_info": {
   "codemirror_mode": {
    "name": "ipython",
    "version": 2
   },
   "file_extension": ".py",
   "mimetype": "text/x-python",
   "name": "python",
   "nbconvert_exporter": "python",
   "pygments_lexer": "ipython2",
   "version": "2.7.13"
  }
 },
 "nbformat": 4,
 "nbformat_minor": 2
}
