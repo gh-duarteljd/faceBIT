{
 "cells": [
  {
   "cell_type": "markdown",
   "metadata": {},
   "source": [
    "<h1>faceBIT</h1>"
   ]
  },
  {
   "cell_type": "markdown",
   "metadata": {},
   "source": [
    "<h3>bibliotecas</h3>"
   ]
  },
  {
   "cell_type": "code",
   "execution_count": 1,
   "metadata": {
    "collapsed": true
   },
   "outputs": [],
   "source": [
    "import pandas as pd\n",
    "\n",
    "import numpy as np\n",
    "\n",
    "from sklearn import svm\n",
    "\n",
    "from sklearn.metrics import confusion_matrix\n",
    "\n",
    "from sklearn.model_selection import GridSearchCV, train_test_split\n"
   ]
  },
  {
   "cell_type": "markdown",
   "metadata": {},
   "source": [
    "<h2>Importação os dados</h2>"
   ]
  },
  {
   "cell_type": "code",
   "execution_count": 2,
   "metadata": {
    "collapsed": true
   },
   "outputs": [],
   "source": [
    "# Dados HOG\n",
    "data = pd.read_csv('../CSV/pca_descriptor.csv')\n",
    "\n",
    "# reordenando os índices do combinado\n",
    "data.reset_index(inplace=True)\n",
    "\n",
    "# removendo a coluna index\n",
    "data.drop('index',inplace=True,axis=1)\n"
   ]
  },
  {
   "cell_type": "markdown",
   "metadata": {},
   "source": [
    "<h2>Visão geral dos dados</h2>"
   ]
  },
  {
   "cell_type": "code",
   "execution_count": 3,
   "metadata": {
    "collapsed": false,
    "scrolled": true
   },
   "outputs": [
    {
     "name": "stdout",
     "output_type": "stream",
     "text": [
      "<class 'pandas.core.frame.DataFrame'>\n",
      "RangeIndex: 1800 entries, 0 to 1799\n",
      "Columns: 101 entries, target to  99\n",
      "dtypes: float64(100), int64(1)\n",
      "memory usage: 1.4 MB\n"
     ]
    }
   ],
   "source": [
    "data.info()"
   ]
  },
  {
   "cell_type": "code",
   "execution_count": 4,
   "metadata": {
    "collapsed": false
   },
   "outputs": [
    {
     "data": {
      "text/html": [
       "<div>\n",
       "<table border=\"1\" class=\"dataframe\">\n",
       "  <thead>\n",
       "    <tr style=\"text-align: right;\">\n",
       "      <th></th>\n",
       "      <th>target</th>\n",
       "      <th>0</th>\n",
       "      <th>1</th>\n",
       "      <th>2</th>\n",
       "      <th>3</th>\n",
       "      <th>4</th>\n",
       "      <th>5</th>\n",
       "      <th>6</th>\n",
       "      <th>7</th>\n",
       "      <th>8</th>\n",
       "      <th>...</th>\n",
       "      <th>90</th>\n",
       "      <th>91</th>\n",
       "      <th>92</th>\n",
       "      <th>93</th>\n",
       "      <th>94</th>\n",
       "      <th>95</th>\n",
       "      <th>96</th>\n",
       "      <th>97</th>\n",
       "      <th>98</th>\n",
       "      <th>99</th>\n",
       "    </tr>\n",
       "  </thead>\n",
       "  <tbody>\n",
       "    <tr>\n",
       "      <th>0</th>\n",
       "      <td>1</td>\n",
       "      <td>1438.246582</td>\n",
       "      <td>331.040405</td>\n",
       "      <td>424.738434</td>\n",
       "      <td>1009.631287</td>\n",
       "      <td>531.097107</td>\n",
       "      <td>7.932745</td>\n",
       "      <td>141.523239</td>\n",
       "      <td>460.933899</td>\n",
       "      <td>-700.129761</td>\n",
       "      <td>...</td>\n",
       "      <td>-54.907833</td>\n",
       "      <td>6.588022</td>\n",
       "      <td>78.607758</td>\n",
       "      <td>-159.501541</td>\n",
       "      <td>-40.644852</td>\n",
       "      <td>-123.231750</td>\n",
       "      <td>207.691437</td>\n",
       "      <td>-38.044521</td>\n",
       "      <td>66.844460</td>\n",
       "      <td>5.932398</td>\n",
       "    </tr>\n",
       "    <tr>\n",
       "      <th>1</th>\n",
       "      <td>1</td>\n",
       "      <td>2055.302246</td>\n",
       "      <td>544.256836</td>\n",
       "      <td>3201.584473</td>\n",
       "      <td>8.114310</td>\n",
       "      <td>581.401855</td>\n",
       "      <td>-864.440796</td>\n",
       "      <td>-82.489738</td>\n",
       "      <td>560.538269</td>\n",
       "      <td>-43.017895</td>\n",
       "      <td>...</td>\n",
       "      <td>-43.680965</td>\n",
       "      <td>-117.771950</td>\n",
       "      <td>44.644688</td>\n",
       "      <td>-122.561157</td>\n",
       "      <td>77.406090</td>\n",
       "      <td>-37.782894</td>\n",
       "      <td>115.021553</td>\n",
       "      <td>-12.453054</td>\n",
       "      <td>-14.705388</td>\n",
       "      <td>-124.186707</td>\n",
       "    </tr>\n",
       "    <tr>\n",
       "      <th>2</th>\n",
       "      <td>1</td>\n",
       "      <td>-324.616333</td>\n",
       "      <td>-55.429619</td>\n",
       "      <td>-2048.887451</td>\n",
       "      <td>1717.262207</td>\n",
       "      <td>539.768982</td>\n",
       "      <td>293.379089</td>\n",
       "      <td>194.917664</td>\n",
       "      <td>850.718811</td>\n",
       "      <td>-892.872192</td>\n",
       "      <td>...</td>\n",
       "      <td>67.814255</td>\n",
       "      <td>46.188293</td>\n",
       "      <td>57.093723</td>\n",
       "      <td>-13.714008</td>\n",
       "      <td>-163.306900</td>\n",
       "      <td>-27.412085</td>\n",
       "      <td>2.965388</td>\n",
       "      <td>-21.407558</td>\n",
       "      <td>-35.962715</td>\n",
       "      <td>68.661980</td>\n",
       "    </tr>\n",
       "    <tr>\n",
       "      <th>3</th>\n",
       "      <td>1</td>\n",
       "      <td>2374.970703</td>\n",
       "      <td>1867.944092</td>\n",
       "      <td>1807.425171</td>\n",
       "      <td>505.979889</td>\n",
       "      <td>638.721863</td>\n",
       "      <td>-533.261963</td>\n",
       "      <td>38.418491</td>\n",
       "      <td>1073.165649</td>\n",
       "      <td>-445.146057</td>\n",
       "      <td>...</td>\n",
       "      <td>-35.106163</td>\n",
       "      <td>-109.514435</td>\n",
       "      <td>30.873833</td>\n",
       "      <td>-0.068940</td>\n",
       "      <td>76.972084</td>\n",
       "      <td>24.527313</td>\n",
       "      <td>-72.240524</td>\n",
       "      <td>-25.378273</td>\n",
       "      <td>-83.674957</td>\n",
       "      <td>35.552940</td>\n",
       "    </tr>\n",
       "    <tr>\n",
       "      <th>4</th>\n",
       "      <td>1</td>\n",
       "      <td>924.939087</td>\n",
       "      <td>1890.613647</td>\n",
       "      <td>-897.424133</td>\n",
       "      <td>1421.050293</td>\n",
       "      <td>536.645081</td>\n",
       "      <td>138.086731</td>\n",
       "      <td>194.509079</td>\n",
       "      <td>1040.837769</td>\n",
       "      <td>-814.420044</td>\n",
       "      <td>...</td>\n",
       "      <td>8.000200</td>\n",
       "      <td>10.301789</td>\n",
       "      <td>45.569988</td>\n",
       "      <td>19.672884</td>\n",
       "      <td>-89.162117</td>\n",
       "      <td>-29.667747</td>\n",
       "      <td>-59.849247</td>\n",
       "      <td>-70.192688</td>\n",
       "      <td>-60.802944</td>\n",
       "      <td>154.410370</td>\n",
       "    </tr>\n",
       "  </tbody>\n",
       "</table>\n",
       "<p>5 rows × 101 columns</p>\n",
       "</div>"
      ],
      "text/plain": [
       "   target            0            1            2            3           4  \\\n",
       "0       1  1438.246582   331.040405   424.738434  1009.631287  531.097107   \n",
       "1       1  2055.302246   544.256836  3201.584473     8.114310  581.401855   \n",
       "2       1  -324.616333   -55.429619 -2048.887451  1717.262207  539.768982   \n",
       "3       1  2374.970703  1867.944092  1807.425171   505.979889  638.721863   \n",
       "4       1   924.939087  1890.613647  -897.424133  1421.050293  536.645081   \n",
       "\n",
       "            5           6            7           8     ...             90  \\\n",
       "0    7.932745  141.523239   460.933899 -700.129761     ...     -54.907833   \n",
       "1 -864.440796  -82.489738   560.538269  -43.017895     ...     -43.680965   \n",
       "2  293.379089  194.917664   850.718811 -892.872192     ...      67.814255   \n",
       "3 -533.261963   38.418491  1073.165649 -445.146057     ...     -35.106163   \n",
       "4  138.086731  194.509079  1040.837769 -814.420044     ...       8.000200   \n",
       "\n",
       "           91         92          93          94          95          96  \\\n",
       "0    6.588022  78.607758 -159.501541  -40.644852 -123.231750  207.691437   \n",
       "1 -117.771950  44.644688 -122.561157   77.406090  -37.782894  115.021553   \n",
       "2   46.188293  57.093723  -13.714008 -163.306900  -27.412085    2.965388   \n",
       "3 -109.514435  30.873833   -0.068940   76.972084   24.527313  -72.240524   \n",
       "4   10.301789  45.569988   19.672884  -89.162117  -29.667747  -59.849247   \n",
       "\n",
       "          97         98          99  \n",
       "0 -38.044521  66.844460    5.932398  \n",
       "1 -12.453054 -14.705388 -124.186707  \n",
       "2 -21.407558 -35.962715   68.661980  \n",
       "3 -25.378273 -83.674957   35.552940  \n",
       "4 -70.192688 -60.802944  154.410370  \n",
       "\n",
       "[5 rows x 101 columns]"
      ]
     },
     "execution_count": 4,
     "metadata": {},
     "output_type": "execute_result"
    }
   ],
   "source": [
    "data.head()"
   ]
  },
  {
   "cell_type": "code",
   "execution_count": 5,
   "metadata": {
    "collapsed": false
   },
   "outputs": [
    {
     "data": {
      "text/html": [
       "<div>\n",
       "<table border=\"1\" class=\"dataframe\">\n",
       "  <thead>\n",
       "    <tr style=\"text-align: right;\">\n",
       "      <th></th>\n",
       "      <th>target</th>\n",
       "      <th>0</th>\n",
       "      <th>1</th>\n",
       "      <th>2</th>\n",
       "      <th>3</th>\n",
       "      <th>4</th>\n",
       "      <th>5</th>\n",
       "      <th>6</th>\n",
       "      <th>7</th>\n",
       "      <th>8</th>\n",
       "      <th>...</th>\n",
       "      <th>90</th>\n",
       "      <th>91</th>\n",
       "      <th>92</th>\n",
       "      <th>93</th>\n",
       "      <th>94</th>\n",
       "      <th>95</th>\n",
       "      <th>96</th>\n",
       "      <th>97</th>\n",
       "      <th>98</th>\n",
       "      <th>99</th>\n",
       "    </tr>\n",
       "  </thead>\n",
       "  <tbody>\n",
       "    <tr>\n",
       "      <th>1795</th>\n",
       "      <td>0</td>\n",
       "      <td>2702.102295</td>\n",
       "      <td>4753.169434</td>\n",
       "      <td>-2869.024414</td>\n",
       "      <td>298.915192</td>\n",
       "      <td>-164.970123</td>\n",
       "      <td>-345.451874</td>\n",
       "      <td>-443.770477</td>\n",
       "      <td>616.775696</td>\n",
       "      <td>222.131958</td>\n",
       "      <td>...</td>\n",
       "      <td>191.731781</td>\n",
       "      <td>392.929443</td>\n",
       "      <td>316.801117</td>\n",
       "      <td>-247.830948</td>\n",
       "      <td>-468.681824</td>\n",
       "      <td>-284.280151</td>\n",
       "      <td>487.412140</td>\n",
       "      <td>-52.987640</td>\n",
       "      <td>327.781708</td>\n",
       "      <td>34.733833</td>\n",
       "    </tr>\n",
       "    <tr>\n",
       "      <th>1796</th>\n",
       "      <td>0</td>\n",
       "      <td>5705.371582</td>\n",
       "      <td>-1022.119934</td>\n",
       "      <td>-2242.589600</td>\n",
       "      <td>-425.843689</td>\n",
       "      <td>1467.952637</td>\n",
       "      <td>571.465393</td>\n",
       "      <td>12.154913</td>\n",
       "      <td>-564.339661</td>\n",
       "      <td>-293.107391</td>\n",
       "      <td>...</td>\n",
       "      <td>906.897095</td>\n",
       "      <td>364.125946</td>\n",
       "      <td>-197.597870</td>\n",
       "      <td>-174.528870</td>\n",
       "      <td>-547.606201</td>\n",
       "      <td>-498.058868</td>\n",
       "      <td>116.272537</td>\n",
       "      <td>-285.392517</td>\n",
       "      <td>351.704590</td>\n",
       "      <td>257.635376</td>\n",
       "    </tr>\n",
       "    <tr>\n",
       "      <th>1797</th>\n",
       "      <td>0</td>\n",
       "      <td>7042.011719</td>\n",
       "      <td>2138.832031</td>\n",
       "      <td>-2776.291748</td>\n",
       "      <td>825.408081</td>\n",
       "      <td>643.088562</td>\n",
       "      <td>526.045166</td>\n",
       "      <td>-645.222168</td>\n",
       "      <td>-402.102234</td>\n",
       "      <td>72.184372</td>\n",
       "      <td>...</td>\n",
       "      <td>484.907684</td>\n",
       "      <td>250.408920</td>\n",
       "      <td>-153.259903</td>\n",
       "      <td>-199.385925</td>\n",
       "      <td>-193.015610</td>\n",
       "      <td>-533.437317</td>\n",
       "      <td>50.147118</td>\n",
       "      <td>-94.702843</td>\n",
       "      <td>76.177284</td>\n",
       "      <td>262.692993</td>\n",
       "    </tr>\n",
       "    <tr>\n",
       "      <th>1798</th>\n",
       "      <td>0</td>\n",
       "      <td>7390.108887</td>\n",
       "      <td>2161.586426</td>\n",
       "      <td>-2812.104248</td>\n",
       "      <td>832.322327</td>\n",
       "      <td>575.271057</td>\n",
       "      <td>558.683533</td>\n",
       "      <td>-600.370605</td>\n",
       "      <td>-379.179047</td>\n",
       "      <td>115.026123</td>\n",
       "      <td>...</td>\n",
       "      <td>485.137360</td>\n",
       "      <td>232.438965</td>\n",
       "      <td>-149.498489</td>\n",
       "      <td>-206.366257</td>\n",
       "      <td>-209.471039</td>\n",
       "      <td>-539.099915</td>\n",
       "      <td>53.608688</td>\n",
       "      <td>-90.177040</td>\n",
       "      <td>80.722435</td>\n",
       "      <td>256.645935</td>\n",
       "    </tr>\n",
       "    <tr>\n",
       "      <th>1799</th>\n",
       "      <td>0</td>\n",
       "      <td>7880.363281</td>\n",
       "      <td>2254.566162</td>\n",
       "      <td>-2837.353271</td>\n",
       "      <td>873.628235</td>\n",
       "      <td>553.787109</td>\n",
       "      <td>562.936829</td>\n",
       "      <td>-615.433594</td>\n",
       "      <td>-370.912323</td>\n",
       "      <td>94.572937</td>\n",
       "      <td>...</td>\n",
       "      <td>485.603180</td>\n",
       "      <td>244.218765</td>\n",
       "      <td>-160.739395</td>\n",
       "      <td>-211.566360</td>\n",
       "      <td>-207.438156</td>\n",
       "      <td>-552.082703</td>\n",
       "      <td>53.094368</td>\n",
       "      <td>-96.562645</td>\n",
       "      <td>84.949951</td>\n",
       "      <td>263.187103</td>\n",
       "    </tr>\n",
       "  </tbody>\n",
       "</table>\n",
       "<p>5 rows × 101 columns</p>\n",
       "</div>"
      ],
      "text/plain": [
       "      target            0            1            2           3            4  \\\n",
       "1795       0  2702.102295  4753.169434 -2869.024414  298.915192  -164.970123   \n",
       "1796       0  5705.371582 -1022.119934 -2242.589600 -425.843689  1467.952637   \n",
       "1797       0  7042.011719  2138.832031 -2776.291748  825.408081   643.088562   \n",
       "1798       0  7390.108887  2161.586426 -2812.104248  832.322327   575.271057   \n",
       "1799       0  7880.363281  2254.566162 -2837.353271  873.628235   553.787109   \n",
       "\n",
       "               5           6           7           8     ...              90  \\\n",
       "1795 -345.451874 -443.770477  616.775696  222.131958     ...      191.731781   \n",
       "1796  571.465393   12.154913 -564.339661 -293.107391     ...      906.897095   \n",
       "1797  526.045166 -645.222168 -402.102234   72.184372     ...      484.907684   \n",
       "1798  558.683533 -600.370605 -379.179047  115.026123     ...      485.137360   \n",
       "1799  562.936829 -615.433594 -370.912323   94.572937     ...      485.603180   \n",
       "\n",
       "              91          92          93          94          95          96  \\\n",
       "1795  392.929443  316.801117 -247.830948 -468.681824 -284.280151  487.412140   \n",
       "1796  364.125946 -197.597870 -174.528870 -547.606201 -498.058868  116.272537   \n",
       "1797  250.408920 -153.259903 -199.385925 -193.015610 -533.437317   50.147118   \n",
       "1798  232.438965 -149.498489 -206.366257 -209.471039 -539.099915   53.608688   \n",
       "1799  244.218765 -160.739395 -211.566360 -207.438156 -552.082703   53.094368   \n",
       "\n",
       "              97          98          99  \n",
       "1795  -52.987640  327.781708   34.733833  \n",
       "1796 -285.392517  351.704590  257.635376  \n",
       "1797  -94.702843   76.177284  262.692993  \n",
       "1798  -90.177040   80.722435  256.645935  \n",
       "1799  -96.562645   84.949951  263.187103  \n",
       "\n",
       "[5 rows x 101 columns]"
      ]
     },
     "execution_count": 5,
     "metadata": {},
     "output_type": "execute_result"
    }
   ],
   "source": [
    "data.tail()"
   ]
  },
  {
   "cell_type": "markdown",
   "metadata": {},
   "source": [
    "<h2>Separação dos dados em conjunto de Treino e Teste</h2>"
   ]
  },
  {
   "cell_type": "code",
   "execution_count": 6,
   "metadata": {
    "collapsed": true
   },
   "outputs": [],
   "source": [
    "Y = data.target"
   ]
  },
  {
   "cell_type": "code",
   "execution_count": 7,
   "metadata": {
    "collapsed": true
   },
   "outputs": [],
   "source": [
    "data.drop('target',inplace=True,axis=1)"
   ]
  },
  {
   "cell_type": "code",
   "execution_count": 8,
   "metadata": {
    "collapsed": true
   },
   "outputs": [],
   "source": [
    "X = data"
   ]
  },
  {
   "cell_type": "code",
   "execution_count": 9,
   "metadata": {
    "collapsed": true
   },
   "outputs": [],
   "source": [
    "\n",
    "X_train, X_test, y_train, y_test = train_test_split(X, Y, test_size = 0.2, random_state=0)"
   ]
  },
  {
   "cell_type": "markdown",
   "metadata": {},
   "source": [
    "<h2>Modelo SVM</h2>"
   ]
  },
  {
   "cell_type": "code",
   "execution_count": 10,
   "metadata": {
    "collapsed": true
   },
   "outputs": [],
   "source": [
    "clf = svm.SVC(kernel='linear', C = 100, probability=True)"
   ]
  },
  {
   "cell_type": "code",
   "execution_count": 11,
   "metadata": {
    "collapsed": false
   },
   "outputs": [
    {
     "data": {
      "text/plain": [
       "SVC(C=100, cache_size=200, class_weight=None, coef0=0.0,\n",
       "  decision_function_shape=None, degree=3, gamma='auto', kernel='linear',\n",
       "  max_iter=-1, probability=True, random_state=None, shrinking=True,\n",
       "  tol=0.001, verbose=False)"
      ]
     },
     "execution_count": 11,
     "metadata": {},
     "output_type": "execute_result"
    }
   ],
   "source": [
    "clf.fit(X_train, y_train)"
   ]
  },
  {
   "cell_type": "code",
   "execution_count": 12,
   "metadata": {
    "collapsed": true
   },
   "outputs": [],
   "source": [
    "clf_predictions = clf.predict_proba(X_test)"
   ]
  },
  {
   "cell_type": "code",
   "execution_count": 13,
   "metadata": {
    "collapsed": false
   },
   "outputs": [
    {
     "name": "stdout",
     "output_type": "stream",
     "text": [
      "Accuracy: 99.7222222222%\n"
     ]
    }
   ],
   "source": [
    "print(\"Accuracy: {}%\".format(clf.score(X_test, y_test) * 100 ))"
   ]
  },
  {
   "cell_type": "markdown",
   "metadata": {},
   "source": [
    "<h2>Exportação dos parametros do modelo</h2>"
   ]
  },
  {
   "cell_type": "code",
   "execution_count": 14,
   "metadata": {
    "collapsed": true
   },
   "outputs": [],
   "source": [
    "W = np.dot(np.array(clf.dual_coef_), np.array(clf.support_vectors_))\n"
   ]
  },
  {
   "cell_type": "code",
   "execution_count": 15,
   "metadata": {
    "collapsed": true
   },
   "outputs": [],
   "source": [
    "B = clf.intercept_"
   ]
  },
  {
   "cell_type": "code",
   "execution_count": 25,
   "metadata": {
    "collapsed": true
   },
   "outputs": [],
   "source": [
    "W = np.ravel(W)\n",
    "W = W.astype(\"float32\")\n",
    "fw = open(\"W\", \"wb\")\n",
    "W.tofile(fw)"
   ]
  },
  {
   "cell_type": "code",
   "execution_count": 26,
   "metadata": {
    "collapsed": true
   },
   "outputs": [],
   "source": [
    "B = np.ravel(B)\n",
    "B = B.astype(\"float32\")\n",
    "fi = open(\"B\", \"wb\")\n",
    "B.tofile(fi)"
   ]
  },
  {
   "cell_type": "code",
   "execution_count": 18,
   "metadata": {
    "collapsed": false
   },
   "outputs": [
    {
     "name": "stdout",
     "output_type": "stream",
     "text": [
      "[  9.99993922e-01   6.07816572e-06]\n"
     ]
    }
   ],
   "source": [
    "print(clf_predictions[8])"
   ]
  },
  {
   "cell_type": "code",
   "execution_count": 19,
   "metadata": {
    "collapsed": false
   },
   "outputs": [
    {
     "data": {
      "text/plain": [
       "array([ 2.42927122], dtype=float32)"
      ]
     },
     "execution_count": 19,
     "metadata": {},
     "output_type": "execute_result"
    }
   ],
   "source": [
    "B"
   ]
  },
  {
   "cell_type": "code",
   "execution_count": 20,
   "metadata": {
    "collapsed": false
   },
   "outputs": [
    {
     "data": {
      "text/plain": [
       "array([  5.95431629e-05,   5.11724538e-05,   1.82984804e-04,\n",
       "        -2.61812202e-05,  -7.65993173e-05,  -8.44345122e-05,\n",
       "         1.27471270e-04,   2.28543504e-04,  -1.01826045e-04,\n",
       "         7.03594778e-05,  -2.57573760e-04,  -3.07228293e-05,\n",
       "        -2.28443008e-04,   2.44935800e-04,   5.35894942e-04,\n",
       "         9.84143699e-05,  -3.95302341e-05,  -7.06956271e-05,\n",
       "         1.49594189e-05,   2.34966556e-05,   2.90149328e-05,\n",
       "        -1.49350511e-04,   3.49622598e-04,  -9.68398308e-05,\n",
       "         1.94820415e-04,   3.11325479e-04,  -2.62001908e-04,\n",
       "         9.13270287e-06,   2.45192670e-04,   2.84452253e-05,\n",
       "         2.85723363e-04,   1.37547395e-04,  -1.19437093e-04,\n",
       "        -2.32135557e-04,   5.93789264e-05,  -3.73966905e-04,\n",
       "        -2.83541536e-04,   1.57985036e-04,  -4.41209631e-05,\n",
       "        -1.99550865e-04,  -1.26460174e-04,   3.09517520e-04,\n",
       "        -1.05211446e-04,  -3.52228381e-05,  -2.88407406e-04,\n",
       "         4.92523432e-05,  -2.57576001e-04,   3.26270441e-04,\n",
       "        -2.27542434e-04,   3.99043420e-05,   2.36782915e-04,\n",
       "        -9.82294368e-05,   9.38926314e-05,   1.45302853e-04,\n",
       "         2.16428802e-04,   1.20055120e-04,  -1.11387453e-04,\n",
       "        -2.00803828e-04,  -2.27930635e-04,   1.75727517e-04,\n",
       "         1.52370325e-04,   5.09201527e-05,   8.91976088e-05,\n",
       "         4.63898468e-04,   5.05417302e-06,  -5.84928966e-05,\n",
       "        -1.96128356e-04,   2.08384197e-04,   7.17153966e-07,\n",
       "        -1.46427759e-04,   2.23137598e-04,  -1.41408163e-04,\n",
       "         1.15453142e-04,  -1.88158810e-04,  -3.38018617e-05,\n",
       "        -2.11652747e-04,   1.35016540e-04,  -1.24236671e-04,\n",
       "        -1.56192473e-05,   2.59051176e-05,  -2.51723512e-04,\n",
       "        -7.58591455e-07,   5.44186441e-05,   3.05446069e-04,\n",
       "         1.66177069e-05,  -3.19411221e-04,  -1.74146589e-05,\n",
       "        -3.28887545e-05,  -6.83799226e-05,   3.52874049e-05,\n",
       "        -3.44198197e-04,  -3.20118299e-04,  -7.41857511e-05,\n",
       "        -3.28567080e-06,   1.72983753e-04,  -8.26132527e-05,\n",
       "        -7.04910708e-05,   2.42716458e-04,   5.45341500e-05,\n",
       "        -2.62227928e-04], dtype=float32)"
      ]
     },
     "execution_count": 20,
     "metadata": {},
     "output_type": "execute_result"
    }
   ],
   "source": [
    "W"
   ]
  },
  {
   "cell_type": "code",
   "execution_count": 21,
   "metadata": {
    "collapsed": false
   },
   "outputs": [
    {
     "data": {
      "text/html": [
       "<div>\n",
       "<table border=\"1\" class=\"dataframe\">\n",
       "  <thead>\n",
       "    <tr style=\"text-align: right;\">\n",
       "      <th></th>\n",
       "      <th>0</th>\n",
       "      <th>1</th>\n",
       "      <th>2</th>\n",
       "      <th>3</th>\n",
       "      <th>4</th>\n",
       "      <th>5</th>\n",
       "      <th>6</th>\n",
       "      <th>7</th>\n",
       "      <th>8</th>\n",
       "      <th>9</th>\n",
       "      <th>...</th>\n",
       "      <th>90</th>\n",
       "      <th>91</th>\n",
       "      <th>92</th>\n",
       "      <th>93</th>\n",
       "      <th>94</th>\n",
       "      <th>95</th>\n",
       "      <th>96</th>\n",
       "      <th>97</th>\n",
       "      <th>98</th>\n",
       "      <th>99</th>\n",
       "    </tr>\n",
       "  </thead>\n",
       "  <tbody>\n",
       "    <tr>\n",
       "      <th>0</th>\n",
       "      <td>1438.246582</td>\n",
       "      <td>331.040405</td>\n",
       "      <td>424.738434</td>\n",
       "      <td>1009.631287</td>\n",
       "      <td>531.097107</td>\n",
       "      <td>7.932745</td>\n",
       "      <td>141.523239</td>\n",
       "      <td>460.933899</td>\n",
       "      <td>-700.129761</td>\n",
       "      <td>-948.708801</td>\n",
       "      <td>...</td>\n",
       "      <td>-54.907833</td>\n",
       "      <td>6.588022</td>\n",
       "      <td>78.607758</td>\n",
       "      <td>-159.501541</td>\n",
       "      <td>-40.644852</td>\n",
       "      <td>-123.23175</td>\n",
       "      <td>207.691437</td>\n",
       "      <td>-38.044521</td>\n",
       "      <td>66.84446</td>\n",
       "      <td>5.932398</td>\n",
       "    </tr>\n",
       "  </tbody>\n",
       "</table>\n",
       "<p>1 rows × 100 columns</p>\n",
       "</div>"
      ],
      "text/plain": [
       "             0           1           2            3           4         5  \\\n",
       "0  1438.246582  331.040405  424.738434  1009.631287  531.097107  7.932745   \n",
       "\n",
       "            6           7           8           9    ...            90  \\\n",
       "0  141.523239  460.933899 -700.129761 -948.708801    ...    -54.907833   \n",
       "\n",
       "         91         92          93         94         95          96  \\\n",
       "0  6.588022  78.607758 -159.501541 -40.644852 -123.23175  207.691437   \n",
       "\n",
       "          97        98        99  \n",
       "0 -38.044521  66.84446  5.932398  \n",
       "\n",
       "[1 rows x 100 columns]"
      ]
     },
     "execution_count": 21,
     "metadata": {},
     "output_type": "execute_result"
    }
   ],
   "source": [
    "X[:1]"
   ]
  },
  {
   "cell_type": "code",
   "execution_count": 22,
   "metadata": {
    "collapsed": false
   },
   "outputs": [
    {
     "data": {
      "text/plain": [
       "numpy.ndarray"
      ]
     },
     "execution_count": 22,
     "metadata": {},
     "output_type": "execute_result"
    }
   ],
   "source": [
    "type(W)"
   ]
  },
  {
   "cell_type": "code",
   "execution_count": null,
   "metadata": {
    "collapsed": true
   },
   "outputs": [],
   "source": []
  }
 ],
 "metadata": {
  "kernelspec": {
   "display_name": "Python 2",
   "language": "python",
   "name": "python2"
  },
  "language_info": {
   "codemirror_mode": {
    "name": "ipython",
    "version": 2
   },
   "file_extension": ".py",
   "mimetype": "text/x-python",
   "name": "python",
   "nbconvert_exporter": "python",
   "pygments_lexer": "ipython2",
   "version": "2.7.13"
  }
 },
 "nbformat": 4,
 "nbformat_minor": 2
}
