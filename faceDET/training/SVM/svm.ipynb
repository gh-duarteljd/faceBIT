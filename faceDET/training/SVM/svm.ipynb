{
 "cells": [
  {
   "cell_type": "markdown",
   "metadata": {},
   "source": [
    "<h1>faceBIT</h1>"
   ]
  },
  {
   "cell_type": "markdown",
   "metadata": {},
   "source": [
    "<h3>bibliotecas</h3>"
   ]
  },
  {
   "cell_type": "code",
   "execution_count": 1,
   "metadata": {},
   "outputs": [],
   "source": [
    "import pandas as pd\n",
    "\n",
    "import numpy as np\n",
    "\n",
    "from sklearn import svm\n",
    "\n",
    "from sklearn.metrics import confusion_matrix\n",
    "\n",
    "from sklearn.model_selection import GridSearchCV, train_test_split\n"
   ]
  },
  {
   "cell_type": "markdown",
   "metadata": {},
   "source": [
    "<h2>Importação os dados</h2>"
   ]
  },
  {
   "cell_type": "code",
   "execution_count": 2,
   "metadata": {},
   "outputs": [],
   "source": [
    "# Dados HOG\n",
    "data = pd.read_csv('../CSV/hog_descriptor.csv')\n",
    "\n",
    "# reordenando os índices do combinado\n",
    "data.reset_index(inplace=True)\n",
    "\n",
    "# removendo a coluna index\n",
    "data.drop('index',inplace=True,axis=1)\n"
   ]
  },
  {
   "cell_type": "markdown",
   "metadata": {},
   "source": [
    "<h2>Visão geral dos dados</h2>"
   ]
  },
  {
   "cell_type": "code",
   "execution_count": 3,
   "metadata": {
    "scrolled": true
   },
   "outputs": [
    {
     "name": "stdout",
     "output_type": "stream",
     "text": [
      "<class 'pandas.core.frame.DataFrame'>\n",
      "RangeIndex: 1800 entries, 0 to 1799\n",
      "Columns: 54433 entries, target to  54431\n",
      "dtypes: float64(54432), int64(1)\n",
      "memory usage: 747.5 MB\n"
     ]
    }
   ],
   "source": [
    "data.info()"
   ]
  },
  {
   "cell_type": "code",
   "execution_count": 4,
   "metadata": {},
   "outputs": [
    {
     "data": {
      "text/html": [
       "<div>\n",
       "<style scoped>\n",
       "    .dataframe tbody tr th:only-of-type {\n",
       "        vertical-align: middle;\n",
       "    }\n",
       "\n",
       "    .dataframe tbody tr th {\n",
       "        vertical-align: top;\n",
       "    }\n",
       "\n",
       "    .dataframe thead th {\n",
       "        text-align: right;\n",
       "    }\n",
       "</style>\n",
       "<table border=\"1\" class=\"dataframe\">\n",
       "  <thead>\n",
       "    <tr style=\"text-align: right;\">\n",
       "      <th></th>\n",
       "      <th>target</th>\n",
       "      <th>0</th>\n",
       "      <th>1</th>\n",
       "      <th>2</th>\n",
       "      <th>3</th>\n",
       "      <th>4</th>\n",
       "      <th>5</th>\n",
       "      <th>6</th>\n",
       "      <th>7</th>\n",
       "      <th>8</th>\n",
       "      <th>...</th>\n",
       "      <th>54422</th>\n",
       "      <th>54423</th>\n",
       "      <th>54424</th>\n",
       "      <th>54425</th>\n",
       "      <th>54426</th>\n",
       "      <th>54427</th>\n",
       "      <th>54428</th>\n",
       "      <th>54429</th>\n",
       "      <th>54430</th>\n",
       "      <th>54431</th>\n",
       "    </tr>\n",
       "  </thead>\n",
       "  <tbody>\n",
       "    <tr>\n",
       "      <th>0</th>\n",
       "      <td>1</td>\n",
       "      <td>0.022243</td>\n",
       "      <td>0.028151</td>\n",
       "      <td>0.013135</td>\n",
       "      <td>0.006362</td>\n",
       "      <td>0.292261</td>\n",
       "      <td>0.213080</td>\n",
       "      <td>0.006978</td>\n",
       "      <td>0.008208</td>\n",
       "      <td>0.023670</td>\n",
       "      <td>...</td>\n",
       "      <td>0.065924</td>\n",
       "      <td>0.031641</td>\n",
       "      <td>0.087693</td>\n",
       "      <td>0.090867</td>\n",
       "      <td>0.080498</td>\n",
       "      <td>0.083573</td>\n",
       "      <td>0.054889</td>\n",
       "      <td>0.021111</td>\n",
       "      <td>0.010647</td>\n",
       "      <td>0.058556</td>\n",
       "    </tr>\n",
       "    <tr>\n",
       "      <th>1</th>\n",
       "      <td>1</td>\n",
       "      <td>0.034988</td>\n",
       "      <td>0.027126</td>\n",
       "      <td>0.010969</td>\n",
       "      <td>0.004228</td>\n",
       "      <td>0.293776</td>\n",
       "      <td>0.222707</td>\n",
       "      <td>0.006233</td>\n",
       "      <td>0.011495</td>\n",
       "      <td>0.026862</td>\n",
       "      <td>...</td>\n",
       "      <td>0.073427</td>\n",
       "      <td>0.017236</td>\n",
       "      <td>0.046411</td>\n",
       "      <td>0.058267</td>\n",
       "      <td>0.043631</td>\n",
       "      <td>0.036140</td>\n",
       "      <td>0.014138</td>\n",
       "      <td>0.019555</td>\n",
       "      <td>0.007830</td>\n",
       "      <td>0.010434</td>\n",
       "    </tr>\n",
       "    <tr>\n",
       "      <th>2</th>\n",
       "      <td>1</td>\n",
       "      <td>0.033425</td>\n",
       "      <td>0.027352</td>\n",
       "      <td>0.010171</td>\n",
       "      <td>0.006719</td>\n",
       "      <td>0.253146</td>\n",
       "      <td>0.193692</td>\n",
       "      <td>0.002858</td>\n",
       "      <td>0.004773</td>\n",
       "      <td>0.013460</td>\n",
       "      <td>...</td>\n",
       "      <td>0.047600</td>\n",
       "      <td>0.059143</td>\n",
       "      <td>0.089117</td>\n",
       "      <td>0.084583</td>\n",
       "      <td>0.056239</td>\n",
       "      <td>0.047167</td>\n",
       "      <td>0.041791</td>\n",
       "      <td>0.016028</td>\n",
       "      <td>0.021377</td>\n",
       "      <td>0.060301</td>\n",
       "    </tr>\n",
       "    <tr>\n",
       "      <th>3</th>\n",
       "      <td>1</td>\n",
       "      <td>0.029485</td>\n",
       "      <td>0.022889</td>\n",
       "      <td>0.009595</td>\n",
       "      <td>0.002555</td>\n",
       "      <td>0.305342</td>\n",
       "      <td>0.238921</td>\n",
       "      <td>0.002574</td>\n",
       "      <td>0.016912</td>\n",
       "      <td>0.027146</td>\n",
       "      <td>...</td>\n",
       "      <td>0.059752</td>\n",
       "      <td>0.032056</td>\n",
       "      <td>0.031595</td>\n",
       "      <td>0.081206</td>\n",
       "      <td>0.074807</td>\n",
       "      <td>0.037805</td>\n",
       "      <td>0.006882</td>\n",
       "      <td>0.012820</td>\n",
       "      <td>0.010974</td>\n",
       "      <td>0.008239</td>\n",
       "    </tr>\n",
       "    <tr>\n",
       "      <th>4</th>\n",
       "      <td>1</td>\n",
       "      <td>0.022396</td>\n",
       "      <td>0.039240</td>\n",
       "      <td>0.006041</td>\n",
       "      <td>0.004542</td>\n",
       "      <td>0.289389</td>\n",
       "      <td>0.222792</td>\n",
       "      <td>0.006274</td>\n",
       "      <td>0.008874</td>\n",
       "      <td>0.022394</td>\n",
       "      <td>...</td>\n",
       "      <td>0.031681</td>\n",
       "      <td>0.038546</td>\n",
       "      <td>0.064566</td>\n",
       "      <td>0.083054</td>\n",
       "      <td>0.087511</td>\n",
       "      <td>0.056867</td>\n",
       "      <td>0.007006</td>\n",
       "      <td>0.014764</td>\n",
       "      <td>0.017558</td>\n",
       "      <td>0.022487</td>\n",
       "    </tr>\n",
       "  </tbody>\n",
       "</table>\n",
       "<p>5 rows × 54433 columns</p>\n",
       "</div>"
      ],
      "text/plain": [
       "   target         0         1         2         3         4         5  \\\n",
       "0       1  0.022243  0.028151  0.013135  0.006362  0.292261  0.213080   \n",
       "1       1  0.034988  0.027126  0.010969  0.004228  0.293776  0.222707   \n",
       "2       1  0.033425  0.027352  0.010171  0.006719  0.253146  0.193692   \n",
       "3       1  0.029485  0.022889  0.009595  0.002555  0.305342  0.238921   \n",
       "4       1  0.022396  0.039240  0.006041  0.004542  0.289389  0.222792   \n",
       "\n",
       "          6         7         8    ...        54422     54423     54424  \\\n",
       "0  0.006978  0.008208  0.023670    ...     0.065924  0.031641  0.087693   \n",
       "1  0.006233  0.011495  0.026862    ...     0.073427  0.017236  0.046411   \n",
       "2  0.002858  0.004773  0.013460    ...     0.047600  0.059143  0.089117   \n",
       "3  0.002574  0.016912  0.027146    ...     0.059752  0.032056  0.031595   \n",
       "4  0.006274  0.008874  0.022394    ...     0.031681  0.038546  0.064566   \n",
       "\n",
       "      54425     54426     54427     54428     54429     54430     54431  \n",
       "0  0.090867  0.080498  0.083573  0.054889  0.021111  0.010647  0.058556  \n",
       "1  0.058267  0.043631  0.036140  0.014138  0.019555  0.007830  0.010434  \n",
       "2  0.084583  0.056239  0.047167  0.041791  0.016028  0.021377  0.060301  \n",
       "3  0.081206  0.074807  0.037805  0.006882  0.012820  0.010974  0.008239  \n",
       "4  0.083054  0.087511  0.056867  0.007006  0.014764  0.017558  0.022487  \n",
       "\n",
       "[5 rows x 54433 columns]"
      ]
     },
     "execution_count": 4,
     "metadata": {},
     "output_type": "execute_result"
    }
   ],
   "source": [
    "data.head()"
   ]
  },
  {
   "cell_type": "code",
   "execution_count": 5,
   "metadata": {},
   "outputs": [
    {
     "data": {
      "text/html": [
       "<div>\n",
       "<style scoped>\n",
       "    .dataframe tbody tr th:only-of-type {\n",
       "        vertical-align: middle;\n",
       "    }\n",
       "\n",
       "    .dataframe tbody tr th {\n",
       "        vertical-align: top;\n",
       "    }\n",
       "\n",
       "    .dataframe thead th {\n",
       "        text-align: right;\n",
       "    }\n",
       "</style>\n",
       "<table border=\"1\" class=\"dataframe\">\n",
       "  <thead>\n",
       "    <tr style=\"text-align: right;\">\n",
       "      <th></th>\n",
       "      <th>target</th>\n",
       "      <th>0</th>\n",
       "      <th>1</th>\n",
       "      <th>2</th>\n",
       "      <th>3</th>\n",
       "      <th>4</th>\n",
       "      <th>5</th>\n",
       "      <th>6</th>\n",
       "      <th>7</th>\n",
       "      <th>8</th>\n",
       "      <th>...</th>\n",
       "      <th>54422</th>\n",
       "      <th>54423</th>\n",
       "      <th>54424</th>\n",
       "      <th>54425</th>\n",
       "      <th>54426</th>\n",
       "      <th>54427</th>\n",
       "      <th>54428</th>\n",
       "      <th>54429</th>\n",
       "      <th>54430</th>\n",
       "      <th>54431</th>\n",
       "    </tr>\n",
       "  </thead>\n",
       "  <tbody>\n",
       "    <tr>\n",
       "      <th>1795</th>\n",
       "      <td>0</td>\n",
       "      <td>0.003644</td>\n",
       "      <td>0.000000</td>\n",
       "      <td>0.000703</td>\n",
       "      <td>0.001903</td>\n",
       "      <td>0.421997</td>\n",
       "      <td>0.424277</td>\n",
       "      <td>0.004330</td>\n",
       "      <td>0.002946</td>\n",
       "      <td>0.000995</td>\n",
       "      <td>...</td>\n",
       "      <td>0.018516</td>\n",
       "      <td>0.054336</td>\n",
       "      <td>0.002241</td>\n",
       "      <td>0.004493</td>\n",
       "      <td>0.004497</td>\n",
       "      <td>0.000252</td>\n",
       "      <td>0.000063</td>\n",
       "      <td>0.001499</td>\n",
       "      <td>0.016036</td>\n",
       "      <td>0.277414</td>\n",
       "    </tr>\n",
       "    <tr>\n",
       "      <th>1796</th>\n",
       "      <td>0</td>\n",
       "      <td>0.378977</td>\n",
       "      <td>0.033625</td>\n",
       "      <td>0.013835</td>\n",
       "      <td>0.016824</td>\n",
       "      <td>0.057041</td>\n",
       "      <td>0.055565</td>\n",
       "      <td>0.020921</td>\n",
       "      <td>0.028504</td>\n",
       "      <td>0.040895</td>\n",
       "      <td>...</td>\n",
       "      <td>0.032201</td>\n",
       "      <td>0.071459</td>\n",
       "      <td>0.000000</td>\n",
       "      <td>0.030318</td>\n",
       "      <td>0.063044</td>\n",
       "      <td>0.078864</td>\n",
       "      <td>0.076119</td>\n",
       "      <td>0.049809</td>\n",
       "      <td>0.046053</td>\n",
       "      <td>0.032201</td>\n",
       "    </tr>\n",
       "    <tr>\n",
       "      <th>1797</th>\n",
       "      <td>0</td>\n",
       "      <td>0.003860</td>\n",
       "      <td>0.000527</td>\n",
       "      <td>0.003235</td>\n",
       "      <td>0.002942</td>\n",
       "      <td>0.426777</td>\n",
       "      <td>0.428787</td>\n",
       "      <td>0.002694</td>\n",
       "      <td>0.002748</td>\n",
       "      <td>0.001054</td>\n",
       "      <td>...</td>\n",
       "      <td>0.000000</td>\n",
       "      <td>0.178720</td>\n",
       "      <td>0.011672</td>\n",
       "      <td>0.055155</td>\n",
       "      <td>0.016483</td>\n",
       "      <td>0.054393</td>\n",
       "      <td>0.077555</td>\n",
       "      <td>0.070020</td>\n",
       "      <td>0.060858</td>\n",
       "      <td>0.023343</td>\n",
       "    </tr>\n",
       "    <tr>\n",
       "      <th>1798</th>\n",
       "      <td>0</td>\n",
       "      <td>0.007966</td>\n",
       "      <td>0.000000</td>\n",
       "      <td>0.001837</td>\n",
       "      <td>0.000612</td>\n",
       "      <td>0.426961</td>\n",
       "      <td>0.430930</td>\n",
       "      <td>0.000245</td>\n",
       "      <td>0.000735</td>\n",
       "      <td>0.000000</td>\n",
       "      <td>...</td>\n",
       "      <td>0.088179</td>\n",
       "      <td>0.122134</td>\n",
       "      <td>0.075700</td>\n",
       "      <td>0.079946</td>\n",
       "      <td>0.028601</td>\n",
       "      <td>0.048809</td>\n",
       "      <td>0.051347</td>\n",
       "      <td>0.043180</td>\n",
       "      <td>0.056088</td>\n",
       "      <td>0.000000</td>\n",
       "    </tr>\n",
       "    <tr>\n",
       "      <th>1799</th>\n",
       "      <td>0</td>\n",
       "      <td>0.004782</td>\n",
       "      <td>0.001539</td>\n",
       "      <td>0.001477</td>\n",
       "      <td>0.000242</td>\n",
       "      <td>0.431305</td>\n",
       "      <td>0.425564</td>\n",
       "      <td>0.001478</td>\n",
       "      <td>0.003288</td>\n",
       "      <td>0.001539</td>\n",
       "      <td>...</td>\n",
       "      <td>0.106290</td>\n",
       "      <td>0.065786</td>\n",
       "      <td>0.018067</td>\n",
       "      <td>0.021586</td>\n",
       "      <td>0.004253</td>\n",
       "      <td>0.089238</td>\n",
       "      <td>0.132660</td>\n",
       "      <td>0.431624</td>\n",
       "      <td>0.323572</td>\n",
       "      <td>0.131207</td>\n",
       "    </tr>\n",
       "  </tbody>\n",
       "</table>\n",
       "<p>5 rows × 54433 columns</p>\n",
       "</div>"
      ],
      "text/plain": [
       "      target         0         1         2         3         4         5  \\\n",
       "1795       0  0.003644  0.000000  0.000703  0.001903  0.421997  0.424277   \n",
       "1796       0  0.378977  0.033625  0.013835  0.016824  0.057041  0.055565   \n",
       "1797       0  0.003860  0.000527  0.003235  0.002942  0.426777  0.428787   \n",
       "1798       0  0.007966  0.000000  0.001837  0.000612  0.426961  0.430930   \n",
       "1799       0  0.004782  0.001539  0.001477  0.000242  0.431305  0.425564   \n",
       "\n",
       "             6         7         8    ...        54422     54423     54424  \\\n",
       "1795  0.004330  0.002946  0.000995    ...     0.018516  0.054336  0.002241   \n",
       "1796  0.020921  0.028504  0.040895    ...     0.032201  0.071459  0.000000   \n",
       "1797  0.002694  0.002748  0.001054    ...     0.000000  0.178720  0.011672   \n",
       "1798  0.000245  0.000735  0.000000    ...     0.088179  0.122134  0.075700   \n",
       "1799  0.001478  0.003288  0.001539    ...     0.106290  0.065786  0.018067   \n",
       "\n",
       "         54425     54426     54427     54428     54429     54430     54431  \n",
       "1795  0.004493  0.004497  0.000252  0.000063  0.001499  0.016036  0.277414  \n",
       "1796  0.030318  0.063044  0.078864  0.076119  0.049809  0.046053  0.032201  \n",
       "1797  0.055155  0.016483  0.054393  0.077555  0.070020  0.060858  0.023343  \n",
       "1798  0.079946  0.028601  0.048809  0.051347  0.043180  0.056088  0.000000  \n",
       "1799  0.021586  0.004253  0.089238  0.132660  0.431624  0.323572  0.131207  \n",
       "\n",
       "[5 rows x 54433 columns]"
      ]
     },
     "execution_count": 5,
     "metadata": {},
     "output_type": "execute_result"
    }
   ],
   "source": [
    "data.tail()"
   ]
  },
  {
   "cell_type": "markdown",
   "metadata": {},
   "source": [
    "<h2>Separação dos dados em conjunto de Treino e Teste</h2>"
   ]
  },
  {
   "cell_type": "code",
   "execution_count": 6,
   "metadata": {},
   "outputs": [],
   "source": [
    "Y = data.target"
   ]
  },
  {
   "cell_type": "code",
   "execution_count": 7,
   "metadata": {},
   "outputs": [],
   "source": [
    "data.drop('target',inplace=True,axis=1)"
   ]
  },
  {
   "cell_type": "code",
   "execution_count": 8,
   "metadata": {},
   "outputs": [],
   "source": [
    "X = data"
   ]
  },
  {
   "cell_type": "code",
   "execution_count": 9,
   "metadata": {},
   "outputs": [],
   "source": [
    "\n",
    "X_train, X_test, y_train, y_test = train_test_split(X, Y, test_size = 0.2, random_state=0)"
   ]
  },
  {
   "cell_type": "markdown",
   "metadata": {},
   "source": [
    "<h2>Modelo SVM</h2>"
   ]
  },
  {
   "cell_type": "code",
   "execution_count": 10,
   "metadata": {},
   "outputs": [],
   "source": [
    "clf = svm.SVC(kernel='linear', C = 100, probability=True)"
   ]
  },
  {
   "cell_type": "code",
   "execution_count": 11,
   "metadata": {},
   "outputs": [
    {
     "data": {
      "text/plain": [
       "SVC(C=100, cache_size=200, class_weight=None, coef0=0.0,\n",
       "  decision_function_shape='ovr', degree=3, gamma='auto_deprecated',\n",
       "  kernel='linear', max_iter=-1, probability=True, random_state=None,\n",
       "  shrinking=True, tol=0.001, verbose=False)"
      ]
     },
     "execution_count": 11,
     "metadata": {},
     "output_type": "execute_result"
    }
   ],
   "source": [
    "clf.fit(X_train, y_train)"
   ]
  },
  {
   "cell_type": "code",
   "execution_count": 12,
   "metadata": {},
   "outputs": [],
   "source": [
    "clf_predictions = clf.predict_proba(X_test)"
   ]
  },
  {
   "cell_type": "code",
   "execution_count": 13,
   "metadata": {},
   "outputs": [
    {
     "name": "stdout",
     "output_type": "stream",
     "text": [
      "Accuracy: 100.0%\n"
     ]
    }
   ],
   "source": [
    "print(\"Accuracy: {}%\".format(clf.score(X_test, y_test) * 100 ))"
   ]
  },
  {
   "cell_type": "markdown",
   "metadata": {},
   "source": [
    "<h2>Exportação dos parametros do modelo</h2>"
   ]
  },
  {
   "cell_type": "code",
   "execution_count": 59,
   "metadata": {},
   "outputs": [],
   "source": [
    "W = np.dot(np.array(clf.dual_coef_), np.array(clf.support_vectors_))\n"
   ]
  },
  {
   "cell_type": "code",
   "execution_count": 60,
   "metadata": {},
   "outputs": [],
   "source": [
    "B = clf.intercept_"
   ]
  },
  {
   "cell_type": "code",
   "execution_count": 61,
   "metadata": {},
   "outputs": [],
   "source": [
    "W = np.ravel(W)\n",
    "W = W.astype(\"float32\")\n",
    "fw = open(\"W\", \"wb\")\n",
    "W.tofile(fw)"
   ]
  },
  {
   "cell_type": "code",
   "execution_count": 62,
   "metadata": {},
   "outputs": [],
   "source": [
    "B = np.ravel(B)\n",
    "B = B.astype(\"float32\")\n",
    "fi = open(\"B\", \"wb\")\n",
    "B.tofile(fi)"
   ]
  },
  {
   "cell_type": "code",
   "execution_count": 63,
   "metadata": {},
   "outputs": [
    {
     "name": "stdout",
     "output_type": "stream",
     "text": [
      "[9.99442013e-01 5.57986502e-04]\n"
     ]
    }
   ],
   "source": [
    "print(clf_predictions[8])"
   ]
  },
  {
   "cell_type": "code",
   "execution_count": 64,
   "metadata": {},
   "outputs": [
    {
     "data": {
      "text/plain": [
       "array([-1.1084194], dtype=float32)"
      ]
     },
     "execution_count": 64,
     "metadata": {},
     "output_type": "execute_result"
    }
   ],
   "source": [
    "B"
   ]
  },
  {
   "cell_type": "code",
   "execution_count": 65,
   "metadata": {},
   "outputs": [
    {
     "data": {
      "text/plain": [
       "array([ 1.4339412e-05,  1.8702418e-04, -2.4207019e-04, ...,\n",
       "       -7.9903752e-04, -1.1007553e-03, -8.1252120e-04], dtype=float32)"
      ]
     },
     "execution_count": 65,
     "metadata": {},
     "output_type": "execute_result"
    }
   ],
   "source": [
    "W"
   ]
  },
  {
   "cell_type": "code",
   "execution_count": 71,
   "metadata": {},
   "outputs": [
    {
     "data": {
      "text/html": [
       "<div>\n",
       "<style scoped>\n",
       "    .dataframe tbody tr th:only-of-type {\n",
       "        vertical-align: middle;\n",
       "    }\n",
       "\n",
       "    .dataframe tbody tr th {\n",
       "        vertical-align: top;\n",
       "    }\n",
       "\n",
       "    .dataframe thead th {\n",
       "        text-align: right;\n",
       "    }\n",
       "</style>\n",
       "<table border=\"1\" class=\"dataframe\">\n",
       "  <thead>\n",
       "    <tr style=\"text-align: right;\">\n",
       "      <th></th>\n",
       "      <th>0</th>\n",
       "      <th>1</th>\n",
       "      <th>2</th>\n",
       "      <th>3</th>\n",
       "      <th>4</th>\n",
       "      <th>5</th>\n",
       "      <th>6</th>\n",
       "      <th>7</th>\n",
       "      <th>8</th>\n",
       "      <th>9</th>\n",
       "      <th>...</th>\n",
       "      <th>54422</th>\n",
       "      <th>54423</th>\n",
       "      <th>54424</th>\n",
       "      <th>54425</th>\n",
       "      <th>54426</th>\n",
       "      <th>54427</th>\n",
       "      <th>54428</th>\n",
       "      <th>54429</th>\n",
       "      <th>54430</th>\n",
       "      <th>54431</th>\n",
       "    </tr>\n",
       "  </thead>\n",
       "  <tbody>\n",
       "    <tr>\n",
       "      <th>0</th>\n",
       "      <td>0.022243</td>\n",
       "      <td>0.028151</td>\n",
       "      <td>0.013135</td>\n",
       "      <td>0.006362</td>\n",
       "      <td>0.292261</td>\n",
       "      <td>0.21308</td>\n",
       "      <td>0.006978</td>\n",
       "      <td>0.008208</td>\n",
       "      <td>0.02367</td>\n",
       "      <td>0.034815</td>\n",
       "      <td>...</td>\n",
       "      <td>0.065924</td>\n",
       "      <td>0.031641</td>\n",
       "      <td>0.087693</td>\n",
       "      <td>0.090867</td>\n",
       "      <td>0.080498</td>\n",
       "      <td>0.083573</td>\n",
       "      <td>0.054889</td>\n",
       "      <td>0.021111</td>\n",
       "      <td>0.010647</td>\n",
       "      <td>0.058556</td>\n",
       "    </tr>\n",
       "  </tbody>\n",
       "</table>\n",
       "<p>1 rows × 54432 columns</p>\n",
       "</div>"
      ],
      "text/plain": [
       "          0         1         2         3         4        5         6  \\\n",
       "0  0.022243  0.028151  0.013135  0.006362  0.292261  0.21308  0.006978   \n",
       "\n",
       "          7        8         9    ...        54422     54423     54424  \\\n",
       "0  0.008208  0.02367  0.034815    ...     0.065924  0.031641  0.087693   \n",
       "\n",
       "      54425     54426     54427     54428     54429     54430     54431  \n",
       "0  0.090867  0.080498  0.083573  0.054889  0.021111  0.010647  0.058556  \n",
       "\n",
       "[1 rows x 54432 columns]"
      ]
     },
     "execution_count": 71,
     "metadata": {},
     "output_type": "execute_result"
    }
   ],
   "source": [
    "X[:1]"
   ]
  },
  {
   "cell_type": "code",
   "execution_count": null,
   "metadata": {},
   "outputs": [],
   "source": []
  }
 ],
 "metadata": {
  "kernelspec": {
   "display_name": "Python 3",
   "language": "python",
   "name": "python3"
  },
  "language_info": {
   "codemirror_mode": {
    "name": "ipython",
    "version": 3
   },
   "file_extension": ".py",
   "mimetype": "text/x-python",
   "name": "python",
   "nbconvert_exporter": "python",
   "pygments_lexer": "ipython3",
   "version": "3.6.7"
  }
 },
 "nbformat": 4,
 "nbformat_minor": 2
}
